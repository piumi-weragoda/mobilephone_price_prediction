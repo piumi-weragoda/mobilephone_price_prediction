{
  "nbformat": 4,
  "nbformat_minor": 0,
  "metadata": {
    "colab": {
      "provenance": []
    },
    "kernelspec": {
      "name": "python3",
      "display_name": "Python 3"
    },
    "language_info": {
      "name": "python"
    }
  },
  "cells": [
    {
      "cell_type": "markdown",
      "source": [
        "*Question_1(KNN)*"
      ],
      "metadata": {
        "id": "boLCcegel1jh"
      }
    },
    {
      "cell_type": "markdown",
      "source": [
        "**Import Dataset**"
      ],
      "metadata": {
        "id": "UvSliUOIh2N6"
      }
    },
    {
      "cell_type": "code",
      "execution_count": 120,
      "metadata": {
        "id": "EAEiX4YTDf9N",
        "colab": {
          "base_uri": "https://localhost:8080/",
          "height": 299
        },
        "outputId": "d6ed50bd-5339-4c5b-bf60-3ca349e94db5"
      },
      "outputs": [
        {
          "output_type": "execute_result",
          "data": {
            "text/plain": [
              "   battery_power  blue  clock_speed  dual_sim  fc  four_g  int_memory  m_dep  \\\n",
              "0            842     0          2.2         0   1       0           7    0.6   \n",
              "1           1021     1          0.5         1   0       1          53    0.7   \n",
              "2            563     1          0.5         1   2       1          41    0.9   \n",
              "3            615     1          2.5         0   0       0          10    0.8   \n",
              "4           1821     1          1.2         0  13       1          44    0.6   \n",
              "\n",
              "   mobile_wt  n_cores  ...  px_height  px_width   ram  sc_h  sc_w  talk_time  \\\n",
              "0        188        2  ...         20       756  2549     9     7         19   \n",
              "1        136        3  ...        905      1988  2631    17     3          7   \n",
              "2        145        5  ...       1263      1716  2603    11     2          9   \n",
              "3        131        6  ...       1216      1786  2769    16     8         11   \n",
              "4        141        2  ...       1208      1212  1411     8     2         15   \n",
              "\n",
              "   three_g  touch_screen  wifi  price_range  \n",
              "0        0             0     1            1  \n",
              "1        1             1     0            2  \n",
              "2        1             1     0            2  \n",
              "3        1             0     0            2  \n",
              "4        1             1     0            1  \n",
              "\n",
              "[5 rows x 21 columns]"
            ],
            "text/html": [
              "\n",
              "  <div id=\"df-8770aa30-3381-4ae8-bde8-e4009ea46774\">\n",
              "    <div class=\"colab-df-container\">\n",
              "      <div>\n",
              "<style scoped>\n",
              "    .dataframe tbody tr th:only-of-type {\n",
              "        vertical-align: middle;\n",
              "    }\n",
              "\n",
              "    .dataframe tbody tr th {\n",
              "        vertical-align: top;\n",
              "    }\n",
              "\n",
              "    .dataframe thead th {\n",
              "        text-align: right;\n",
              "    }\n",
              "</style>\n",
              "<table border=\"1\" class=\"dataframe\">\n",
              "  <thead>\n",
              "    <tr style=\"text-align: right;\">\n",
              "      <th></th>\n",
              "      <th>battery_power</th>\n",
              "      <th>blue</th>\n",
              "      <th>clock_speed</th>\n",
              "      <th>dual_sim</th>\n",
              "      <th>fc</th>\n",
              "      <th>four_g</th>\n",
              "      <th>int_memory</th>\n",
              "      <th>m_dep</th>\n",
              "      <th>mobile_wt</th>\n",
              "      <th>n_cores</th>\n",
              "      <th>...</th>\n",
              "      <th>px_height</th>\n",
              "      <th>px_width</th>\n",
              "      <th>ram</th>\n",
              "      <th>sc_h</th>\n",
              "      <th>sc_w</th>\n",
              "      <th>talk_time</th>\n",
              "      <th>three_g</th>\n",
              "      <th>touch_screen</th>\n",
              "      <th>wifi</th>\n",
              "      <th>price_range</th>\n",
              "    </tr>\n",
              "  </thead>\n",
              "  <tbody>\n",
              "    <tr>\n",
              "      <th>0</th>\n",
              "      <td>842</td>\n",
              "      <td>0</td>\n",
              "      <td>2.2</td>\n",
              "      <td>0</td>\n",
              "      <td>1</td>\n",
              "      <td>0</td>\n",
              "      <td>7</td>\n",
              "      <td>0.6</td>\n",
              "      <td>188</td>\n",
              "      <td>2</td>\n",
              "      <td>...</td>\n",
              "      <td>20</td>\n",
              "      <td>756</td>\n",
              "      <td>2549</td>\n",
              "      <td>9</td>\n",
              "      <td>7</td>\n",
              "      <td>19</td>\n",
              "      <td>0</td>\n",
              "      <td>0</td>\n",
              "      <td>1</td>\n",
              "      <td>1</td>\n",
              "    </tr>\n",
              "    <tr>\n",
              "      <th>1</th>\n",
              "      <td>1021</td>\n",
              "      <td>1</td>\n",
              "      <td>0.5</td>\n",
              "      <td>1</td>\n",
              "      <td>0</td>\n",
              "      <td>1</td>\n",
              "      <td>53</td>\n",
              "      <td>0.7</td>\n",
              "      <td>136</td>\n",
              "      <td>3</td>\n",
              "      <td>...</td>\n",
              "      <td>905</td>\n",
              "      <td>1988</td>\n",
              "      <td>2631</td>\n",
              "      <td>17</td>\n",
              "      <td>3</td>\n",
              "      <td>7</td>\n",
              "      <td>1</td>\n",
              "      <td>1</td>\n",
              "      <td>0</td>\n",
              "      <td>2</td>\n",
              "    </tr>\n",
              "    <tr>\n",
              "      <th>2</th>\n",
              "      <td>563</td>\n",
              "      <td>1</td>\n",
              "      <td>0.5</td>\n",
              "      <td>1</td>\n",
              "      <td>2</td>\n",
              "      <td>1</td>\n",
              "      <td>41</td>\n",
              "      <td>0.9</td>\n",
              "      <td>145</td>\n",
              "      <td>5</td>\n",
              "      <td>...</td>\n",
              "      <td>1263</td>\n",
              "      <td>1716</td>\n",
              "      <td>2603</td>\n",
              "      <td>11</td>\n",
              "      <td>2</td>\n",
              "      <td>9</td>\n",
              "      <td>1</td>\n",
              "      <td>1</td>\n",
              "      <td>0</td>\n",
              "      <td>2</td>\n",
              "    </tr>\n",
              "    <tr>\n",
              "      <th>3</th>\n",
              "      <td>615</td>\n",
              "      <td>1</td>\n",
              "      <td>2.5</td>\n",
              "      <td>0</td>\n",
              "      <td>0</td>\n",
              "      <td>0</td>\n",
              "      <td>10</td>\n",
              "      <td>0.8</td>\n",
              "      <td>131</td>\n",
              "      <td>6</td>\n",
              "      <td>...</td>\n",
              "      <td>1216</td>\n",
              "      <td>1786</td>\n",
              "      <td>2769</td>\n",
              "      <td>16</td>\n",
              "      <td>8</td>\n",
              "      <td>11</td>\n",
              "      <td>1</td>\n",
              "      <td>0</td>\n",
              "      <td>0</td>\n",
              "      <td>2</td>\n",
              "    </tr>\n",
              "    <tr>\n",
              "      <th>4</th>\n",
              "      <td>1821</td>\n",
              "      <td>1</td>\n",
              "      <td>1.2</td>\n",
              "      <td>0</td>\n",
              "      <td>13</td>\n",
              "      <td>1</td>\n",
              "      <td>44</td>\n",
              "      <td>0.6</td>\n",
              "      <td>141</td>\n",
              "      <td>2</td>\n",
              "      <td>...</td>\n",
              "      <td>1208</td>\n",
              "      <td>1212</td>\n",
              "      <td>1411</td>\n",
              "      <td>8</td>\n",
              "      <td>2</td>\n",
              "      <td>15</td>\n",
              "      <td>1</td>\n",
              "      <td>1</td>\n",
              "      <td>0</td>\n",
              "      <td>1</td>\n",
              "    </tr>\n",
              "  </tbody>\n",
              "</table>\n",
              "<p>5 rows × 21 columns</p>\n",
              "</div>\n",
              "      <button class=\"colab-df-convert\" onclick=\"convertToInteractive('df-8770aa30-3381-4ae8-bde8-e4009ea46774')\"\n",
              "              title=\"Convert this dataframe to an interactive table.\"\n",
              "              style=\"display:none;\">\n",
              "        \n",
              "  <svg xmlns=\"http://www.w3.org/2000/svg\" height=\"24px\"viewBox=\"0 0 24 24\"\n",
              "       width=\"24px\">\n",
              "    <path d=\"M0 0h24v24H0V0z\" fill=\"none\"/>\n",
              "    <path d=\"M18.56 5.44l.94 2.06.94-2.06 2.06-.94-2.06-.94-.94-2.06-.94 2.06-2.06.94zm-11 1L8.5 8.5l.94-2.06 2.06-.94-2.06-.94L8.5 2.5l-.94 2.06-2.06.94zm10 10l.94 2.06.94-2.06 2.06-.94-2.06-.94-.94-2.06-.94 2.06-2.06.94z\"/><path d=\"M17.41 7.96l-1.37-1.37c-.4-.4-.92-.59-1.43-.59-.52 0-1.04.2-1.43.59L10.3 9.45l-7.72 7.72c-.78.78-.78 2.05 0 2.83L4 21.41c.39.39.9.59 1.41.59.51 0 1.02-.2 1.41-.59l7.78-7.78 2.81-2.81c.8-.78.8-2.07 0-2.86zM5.41 20L4 18.59l7.72-7.72 1.47 1.35L5.41 20z\"/>\n",
              "  </svg>\n",
              "      </button>\n",
              "      \n",
              "  <style>\n",
              "    .colab-df-container {\n",
              "      display:flex;\n",
              "      flex-wrap:wrap;\n",
              "      gap: 12px;\n",
              "    }\n",
              "\n",
              "    .colab-df-convert {\n",
              "      background-color: #E8F0FE;\n",
              "      border: none;\n",
              "      border-radius: 50%;\n",
              "      cursor: pointer;\n",
              "      display: none;\n",
              "      fill: #1967D2;\n",
              "      height: 32px;\n",
              "      padding: 0 0 0 0;\n",
              "      width: 32px;\n",
              "    }\n",
              "\n",
              "    .colab-df-convert:hover {\n",
              "      background-color: #E2EBFA;\n",
              "      box-shadow: 0px 1px 2px rgba(60, 64, 67, 0.3), 0px 1px 3px 1px rgba(60, 64, 67, 0.15);\n",
              "      fill: #174EA6;\n",
              "    }\n",
              "\n",
              "    [theme=dark] .colab-df-convert {\n",
              "      background-color: #3B4455;\n",
              "      fill: #D2E3FC;\n",
              "    }\n",
              "\n",
              "    [theme=dark] .colab-df-convert:hover {\n",
              "      background-color: #434B5C;\n",
              "      box-shadow: 0px 1px 3px 1px rgba(0, 0, 0, 0.15);\n",
              "      filter: drop-shadow(0px 1px 2px rgba(0, 0, 0, 0.3));\n",
              "      fill: #FFFFFF;\n",
              "    }\n",
              "  </style>\n",
              "\n",
              "      <script>\n",
              "        const buttonEl =\n",
              "          document.querySelector('#df-8770aa30-3381-4ae8-bde8-e4009ea46774 button.colab-df-convert');\n",
              "        buttonEl.style.display =\n",
              "          google.colab.kernel.accessAllowed ? 'block' : 'none';\n",
              "\n",
              "        async function convertToInteractive(key) {\n",
              "          const element = document.querySelector('#df-8770aa30-3381-4ae8-bde8-e4009ea46774');\n",
              "          const dataTable =\n",
              "            await google.colab.kernel.invokeFunction('convertToInteractive',\n",
              "                                                     [key], {});\n",
              "          if (!dataTable) return;\n",
              "\n",
              "          const docLinkHtml = 'Like what you see? Visit the ' +\n",
              "            '<a target=\"_blank\" href=https://colab.research.google.com/notebooks/data_table.ipynb>data table notebook</a>'\n",
              "            + ' to learn more about interactive tables.';\n",
              "          element.innerHTML = '';\n",
              "          dataTable['output_type'] = 'display_data';\n",
              "          await google.colab.output.renderOutput(dataTable, element);\n",
              "          const docLink = document.createElement('div');\n",
              "          docLink.innerHTML = docLinkHtml;\n",
              "          element.appendChild(docLink);\n",
              "        }\n",
              "      </script>\n",
              "    </div>\n",
              "  </div>\n",
              "  "
            ]
          },
          "metadata": {},
          "execution_count": 120
        }
      ],
      "source": [
        "import pandas as pd\n",
        "dataset_Mobile = pd.read_csv('Mobile_Dataset.csv')\n",
        "dataset_Mobile.head()"
      ]
    },
    {
      "cell_type": "code",
      "source": [
        "dataset_Mobile.describe()"
      ],
      "metadata": {
        "id": "A6OF0JHypFna",
        "colab": {
          "base_uri": "https://localhost:8080/",
          "height": 394
        },
        "outputId": "0f0a5837-9260-402a-b7a5-280a2df110f7"
      },
      "execution_count": 121,
      "outputs": [
        {
          "output_type": "execute_result",
          "data": {
            "text/plain": [
              "       battery_power       blue  clock_speed     dual_sim           fc  \\\n",
              "count    2000.000000  2000.0000  2000.000000  2000.000000  2000.000000   \n",
              "mean     1238.518500     0.4950     1.522250     0.509500     4.309500   \n",
              "std       439.418206     0.5001     0.816004     0.500035     4.341444   \n",
              "min       501.000000     0.0000     0.500000     0.000000     0.000000   \n",
              "25%       851.750000     0.0000     0.700000     0.000000     1.000000   \n",
              "50%      1226.000000     0.0000     1.500000     1.000000     3.000000   \n",
              "75%      1615.250000     1.0000     2.200000     1.000000     7.000000   \n",
              "max      1998.000000     1.0000     3.000000     1.000000    19.000000   \n",
              "\n",
              "            four_g   int_memory        m_dep    mobile_wt      n_cores  ...  \\\n",
              "count  2000.000000  2000.000000  2000.000000  2000.000000  2000.000000  ...   \n",
              "mean      0.521500    32.046500     0.501750   140.249000     4.520500  ...   \n",
              "std       0.499662    18.145715     0.288416    35.399655     2.287837  ...   \n",
              "min       0.000000     2.000000     0.100000    80.000000     1.000000  ...   \n",
              "25%       0.000000    16.000000     0.200000   109.000000     3.000000  ...   \n",
              "50%       1.000000    32.000000     0.500000   141.000000     4.000000  ...   \n",
              "75%       1.000000    48.000000     0.800000   170.000000     7.000000  ...   \n",
              "max       1.000000    64.000000     1.000000   200.000000     8.000000  ...   \n",
              "\n",
              "         px_height     px_width          ram         sc_h         sc_w  \\\n",
              "count  2000.000000  2000.000000  2000.000000  2000.000000  2000.000000   \n",
              "mean    645.108000  1251.515500  2124.213000    12.306500     5.767000   \n",
              "std     443.780811   432.199447  1084.732044     4.213245     4.356398   \n",
              "min       0.000000   500.000000   256.000000     5.000000     0.000000   \n",
              "25%     282.750000   874.750000  1207.500000     9.000000     2.000000   \n",
              "50%     564.000000  1247.000000  2146.500000    12.000000     5.000000   \n",
              "75%     947.250000  1633.000000  3064.500000    16.000000     9.000000   \n",
              "max    1960.000000  1998.000000  3998.000000    19.000000    18.000000   \n",
              "\n",
              "         talk_time      three_g  touch_screen         wifi  price_range  \n",
              "count  2000.000000  2000.000000   2000.000000  2000.000000  2000.000000  \n",
              "mean     11.011000     0.761500      0.503000     0.507000     1.500000  \n",
              "std       5.463955     0.426273      0.500116     0.500076     1.118314  \n",
              "min       2.000000     0.000000      0.000000     0.000000     0.000000  \n",
              "25%       6.000000     1.000000      0.000000     0.000000     0.750000  \n",
              "50%      11.000000     1.000000      1.000000     1.000000     1.500000  \n",
              "75%      16.000000     1.000000      1.000000     1.000000     2.250000  \n",
              "max      20.000000     1.000000      1.000000     1.000000     3.000000  \n",
              "\n",
              "[8 rows x 21 columns]"
            ],
            "text/html": [
              "\n",
              "  <div id=\"df-153c1055-bfe4-4009-b13a-c68f76274fb1\">\n",
              "    <div class=\"colab-df-container\">\n",
              "      <div>\n",
              "<style scoped>\n",
              "    .dataframe tbody tr th:only-of-type {\n",
              "        vertical-align: middle;\n",
              "    }\n",
              "\n",
              "    .dataframe tbody tr th {\n",
              "        vertical-align: top;\n",
              "    }\n",
              "\n",
              "    .dataframe thead th {\n",
              "        text-align: right;\n",
              "    }\n",
              "</style>\n",
              "<table border=\"1\" class=\"dataframe\">\n",
              "  <thead>\n",
              "    <tr style=\"text-align: right;\">\n",
              "      <th></th>\n",
              "      <th>battery_power</th>\n",
              "      <th>blue</th>\n",
              "      <th>clock_speed</th>\n",
              "      <th>dual_sim</th>\n",
              "      <th>fc</th>\n",
              "      <th>four_g</th>\n",
              "      <th>int_memory</th>\n",
              "      <th>m_dep</th>\n",
              "      <th>mobile_wt</th>\n",
              "      <th>n_cores</th>\n",
              "      <th>...</th>\n",
              "      <th>px_height</th>\n",
              "      <th>px_width</th>\n",
              "      <th>ram</th>\n",
              "      <th>sc_h</th>\n",
              "      <th>sc_w</th>\n",
              "      <th>talk_time</th>\n",
              "      <th>three_g</th>\n",
              "      <th>touch_screen</th>\n",
              "      <th>wifi</th>\n",
              "      <th>price_range</th>\n",
              "    </tr>\n",
              "  </thead>\n",
              "  <tbody>\n",
              "    <tr>\n",
              "      <th>count</th>\n",
              "      <td>2000.000000</td>\n",
              "      <td>2000.0000</td>\n",
              "      <td>2000.000000</td>\n",
              "      <td>2000.000000</td>\n",
              "      <td>2000.000000</td>\n",
              "      <td>2000.000000</td>\n",
              "      <td>2000.000000</td>\n",
              "      <td>2000.000000</td>\n",
              "      <td>2000.000000</td>\n",
              "      <td>2000.000000</td>\n",
              "      <td>...</td>\n",
              "      <td>2000.000000</td>\n",
              "      <td>2000.000000</td>\n",
              "      <td>2000.000000</td>\n",
              "      <td>2000.000000</td>\n",
              "      <td>2000.000000</td>\n",
              "      <td>2000.000000</td>\n",
              "      <td>2000.000000</td>\n",
              "      <td>2000.000000</td>\n",
              "      <td>2000.000000</td>\n",
              "      <td>2000.000000</td>\n",
              "    </tr>\n",
              "    <tr>\n",
              "      <th>mean</th>\n",
              "      <td>1238.518500</td>\n",
              "      <td>0.4950</td>\n",
              "      <td>1.522250</td>\n",
              "      <td>0.509500</td>\n",
              "      <td>4.309500</td>\n",
              "      <td>0.521500</td>\n",
              "      <td>32.046500</td>\n",
              "      <td>0.501750</td>\n",
              "      <td>140.249000</td>\n",
              "      <td>4.520500</td>\n",
              "      <td>...</td>\n",
              "      <td>645.108000</td>\n",
              "      <td>1251.515500</td>\n",
              "      <td>2124.213000</td>\n",
              "      <td>12.306500</td>\n",
              "      <td>5.767000</td>\n",
              "      <td>11.011000</td>\n",
              "      <td>0.761500</td>\n",
              "      <td>0.503000</td>\n",
              "      <td>0.507000</td>\n",
              "      <td>1.500000</td>\n",
              "    </tr>\n",
              "    <tr>\n",
              "      <th>std</th>\n",
              "      <td>439.418206</td>\n",
              "      <td>0.5001</td>\n",
              "      <td>0.816004</td>\n",
              "      <td>0.500035</td>\n",
              "      <td>4.341444</td>\n",
              "      <td>0.499662</td>\n",
              "      <td>18.145715</td>\n",
              "      <td>0.288416</td>\n",
              "      <td>35.399655</td>\n",
              "      <td>2.287837</td>\n",
              "      <td>...</td>\n",
              "      <td>443.780811</td>\n",
              "      <td>432.199447</td>\n",
              "      <td>1084.732044</td>\n",
              "      <td>4.213245</td>\n",
              "      <td>4.356398</td>\n",
              "      <td>5.463955</td>\n",
              "      <td>0.426273</td>\n",
              "      <td>0.500116</td>\n",
              "      <td>0.500076</td>\n",
              "      <td>1.118314</td>\n",
              "    </tr>\n",
              "    <tr>\n",
              "      <th>min</th>\n",
              "      <td>501.000000</td>\n",
              "      <td>0.0000</td>\n",
              "      <td>0.500000</td>\n",
              "      <td>0.000000</td>\n",
              "      <td>0.000000</td>\n",
              "      <td>0.000000</td>\n",
              "      <td>2.000000</td>\n",
              "      <td>0.100000</td>\n",
              "      <td>80.000000</td>\n",
              "      <td>1.000000</td>\n",
              "      <td>...</td>\n",
              "      <td>0.000000</td>\n",
              "      <td>500.000000</td>\n",
              "      <td>256.000000</td>\n",
              "      <td>5.000000</td>\n",
              "      <td>0.000000</td>\n",
              "      <td>2.000000</td>\n",
              "      <td>0.000000</td>\n",
              "      <td>0.000000</td>\n",
              "      <td>0.000000</td>\n",
              "      <td>0.000000</td>\n",
              "    </tr>\n",
              "    <tr>\n",
              "      <th>25%</th>\n",
              "      <td>851.750000</td>\n",
              "      <td>0.0000</td>\n",
              "      <td>0.700000</td>\n",
              "      <td>0.000000</td>\n",
              "      <td>1.000000</td>\n",
              "      <td>0.000000</td>\n",
              "      <td>16.000000</td>\n",
              "      <td>0.200000</td>\n",
              "      <td>109.000000</td>\n",
              "      <td>3.000000</td>\n",
              "      <td>...</td>\n",
              "      <td>282.750000</td>\n",
              "      <td>874.750000</td>\n",
              "      <td>1207.500000</td>\n",
              "      <td>9.000000</td>\n",
              "      <td>2.000000</td>\n",
              "      <td>6.000000</td>\n",
              "      <td>1.000000</td>\n",
              "      <td>0.000000</td>\n",
              "      <td>0.000000</td>\n",
              "      <td>0.750000</td>\n",
              "    </tr>\n",
              "    <tr>\n",
              "      <th>50%</th>\n",
              "      <td>1226.000000</td>\n",
              "      <td>0.0000</td>\n",
              "      <td>1.500000</td>\n",
              "      <td>1.000000</td>\n",
              "      <td>3.000000</td>\n",
              "      <td>1.000000</td>\n",
              "      <td>32.000000</td>\n",
              "      <td>0.500000</td>\n",
              "      <td>141.000000</td>\n",
              "      <td>4.000000</td>\n",
              "      <td>...</td>\n",
              "      <td>564.000000</td>\n",
              "      <td>1247.000000</td>\n",
              "      <td>2146.500000</td>\n",
              "      <td>12.000000</td>\n",
              "      <td>5.000000</td>\n",
              "      <td>11.000000</td>\n",
              "      <td>1.000000</td>\n",
              "      <td>1.000000</td>\n",
              "      <td>1.000000</td>\n",
              "      <td>1.500000</td>\n",
              "    </tr>\n",
              "    <tr>\n",
              "      <th>75%</th>\n",
              "      <td>1615.250000</td>\n",
              "      <td>1.0000</td>\n",
              "      <td>2.200000</td>\n",
              "      <td>1.000000</td>\n",
              "      <td>7.000000</td>\n",
              "      <td>1.000000</td>\n",
              "      <td>48.000000</td>\n",
              "      <td>0.800000</td>\n",
              "      <td>170.000000</td>\n",
              "      <td>7.000000</td>\n",
              "      <td>...</td>\n",
              "      <td>947.250000</td>\n",
              "      <td>1633.000000</td>\n",
              "      <td>3064.500000</td>\n",
              "      <td>16.000000</td>\n",
              "      <td>9.000000</td>\n",
              "      <td>16.000000</td>\n",
              "      <td>1.000000</td>\n",
              "      <td>1.000000</td>\n",
              "      <td>1.000000</td>\n",
              "      <td>2.250000</td>\n",
              "    </tr>\n",
              "    <tr>\n",
              "      <th>max</th>\n",
              "      <td>1998.000000</td>\n",
              "      <td>1.0000</td>\n",
              "      <td>3.000000</td>\n",
              "      <td>1.000000</td>\n",
              "      <td>19.000000</td>\n",
              "      <td>1.000000</td>\n",
              "      <td>64.000000</td>\n",
              "      <td>1.000000</td>\n",
              "      <td>200.000000</td>\n",
              "      <td>8.000000</td>\n",
              "      <td>...</td>\n",
              "      <td>1960.000000</td>\n",
              "      <td>1998.000000</td>\n",
              "      <td>3998.000000</td>\n",
              "      <td>19.000000</td>\n",
              "      <td>18.000000</td>\n",
              "      <td>20.000000</td>\n",
              "      <td>1.000000</td>\n",
              "      <td>1.000000</td>\n",
              "      <td>1.000000</td>\n",
              "      <td>3.000000</td>\n",
              "    </tr>\n",
              "  </tbody>\n",
              "</table>\n",
              "<p>8 rows × 21 columns</p>\n",
              "</div>\n",
              "      <button class=\"colab-df-convert\" onclick=\"convertToInteractive('df-153c1055-bfe4-4009-b13a-c68f76274fb1')\"\n",
              "              title=\"Convert this dataframe to an interactive table.\"\n",
              "              style=\"display:none;\">\n",
              "        \n",
              "  <svg xmlns=\"http://www.w3.org/2000/svg\" height=\"24px\"viewBox=\"0 0 24 24\"\n",
              "       width=\"24px\">\n",
              "    <path d=\"M0 0h24v24H0V0z\" fill=\"none\"/>\n",
              "    <path d=\"M18.56 5.44l.94 2.06.94-2.06 2.06-.94-2.06-.94-.94-2.06-.94 2.06-2.06.94zm-11 1L8.5 8.5l.94-2.06 2.06-.94-2.06-.94L8.5 2.5l-.94 2.06-2.06.94zm10 10l.94 2.06.94-2.06 2.06-.94-2.06-.94-.94-2.06-.94 2.06-2.06.94z\"/><path d=\"M17.41 7.96l-1.37-1.37c-.4-.4-.92-.59-1.43-.59-.52 0-1.04.2-1.43.59L10.3 9.45l-7.72 7.72c-.78.78-.78 2.05 0 2.83L4 21.41c.39.39.9.59 1.41.59.51 0 1.02-.2 1.41-.59l7.78-7.78 2.81-2.81c.8-.78.8-2.07 0-2.86zM5.41 20L4 18.59l7.72-7.72 1.47 1.35L5.41 20z\"/>\n",
              "  </svg>\n",
              "      </button>\n",
              "      \n",
              "  <style>\n",
              "    .colab-df-container {\n",
              "      display:flex;\n",
              "      flex-wrap:wrap;\n",
              "      gap: 12px;\n",
              "    }\n",
              "\n",
              "    .colab-df-convert {\n",
              "      background-color: #E8F0FE;\n",
              "      border: none;\n",
              "      border-radius: 50%;\n",
              "      cursor: pointer;\n",
              "      display: none;\n",
              "      fill: #1967D2;\n",
              "      height: 32px;\n",
              "      padding: 0 0 0 0;\n",
              "      width: 32px;\n",
              "    }\n",
              "\n",
              "    .colab-df-convert:hover {\n",
              "      background-color: #E2EBFA;\n",
              "      box-shadow: 0px 1px 2px rgba(60, 64, 67, 0.3), 0px 1px 3px 1px rgba(60, 64, 67, 0.15);\n",
              "      fill: #174EA6;\n",
              "    }\n",
              "\n",
              "    [theme=dark] .colab-df-convert {\n",
              "      background-color: #3B4455;\n",
              "      fill: #D2E3FC;\n",
              "    }\n",
              "\n",
              "    [theme=dark] .colab-df-convert:hover {\n",
              "      background-color: #434B5C;\n",
              "      box-shadow: 0px 1px 3px 1px rgba(0, 0, 0, 0.15);\n",
              "      filter: drop-shadow(0px 1px 2px rgba(0, 0, 0, 0.3));\n",
              "      fill: #FFFFFF;\n",
              "    }\n",
              "  </style>\n",
              "\n",
              "      <script>\n",
              "        const buttonEl =\n",
              "          document.querySelector('#df-153c1055-bfe4-4009-b13a-c68f76274fb1 button.colab-df-convert');\n",
              "        buttonEl.style.display =\n",
              "          google.colab.kernel.accessAllowed ? 'block' : 'none';\n",
              "\n",
              "        async function convertToInteractive(key) {\n",
              "          const element = document.querySelector('#df-153c1055-bfe4-4009-b13a-c68f76274fb1');\n",
              "          const dataTable =\n",
              "            await google.colab.kernel.invokeFunction('convertToInteractive',\n",
              "                                                     [key], {});\n",
              "          if (!dataTable) return;\n",
              "\n",
              "          const docLinkHtml = 'Like what you see? Visit the ' +\n",
              "            '<a target=\"_blank\" href=https://colab.research.google.com/notebooks/data_table.ipynb>data table notebook</a>'\n",
              "            + ' to learn more about interactive tables.';\n",
              "          element.innerHTML = '';\n",
              "          dataTable['output_type'] = 'display_data';\n",
              "          await google.colab.output.renderOutput(dataTable, element);\n",
              "          const docLink = document.createElement('div');\n",
              "          docLink.innerHTML = docLinkHtml;\n",
              "          element.appendChild(docLink);\n",
              "        }\n",
              "      </script>\n",
              "    </div>\n",
              "  </div>\n",
              "  "
            ]
          },
          "metadata": {},
          "execution_count": 121
        }
      ]
    },
    {
      "cell_type": "markdown",
      "source": [
        "**Finding the null values**"
      ],
      "metadata": {
        "id": "lOmKDpKe7YuQ"
      }
    },
    {
      "cell_type": "code",
      "source": [
        "dataset_Mobile.isna().sum()"
      ],
      "metadata": {
        "id": "PbLY0W0H7yn8",
        "colab": {
          "base_uri": "https://localhost:8080/"
        },
        "outputId": "33c0d256-dc5a-45a6-c2ba-5d36c7f10b40"
      },
      "execution_count": 122,
      "outputs": [
        {
          "output_type": "execute_result",
          "data": {
            "text/plain": [
              "battery_power    0\n",
              "blue             0\n",
              "clock_speed      0\n",
              "dual_sim         0\n",
              "fc               0\n",
              "four_g           0\n",
              "int_memory       0\n",
              "m_dep            0\n",
              "mobile_wt        0\n",
              "n_cores          0\n",
              "pc               0\n",
              "px_height        0\n",
              "px_width         0\n",
              "ram              0\n",
              "sc_h             0\n",
              "sc_w             0\n",
              "talk_time        0\n",
              "three_g          0\n",
              "touch_screen     0\n",
              "wifi             0\n",
              "price_range      0\n",
              "dtype: int64"
            ]
          },
          "metadata": {},
          "execution_count": 122
        }
      ]
    },
    {
      "cell_type": "markdown",
      "source": [
        "**Find the missing values**"
      ],
      "metadata": {
        "id": "bf8pyCBetGnS"
      }
    },
    {
      "cell_type": "code",
      "source": [
        "dataset_Mobile.isnull().sum()"
      ],
      "metadata": {
        "id": "9c-BcmIquerx",
        "colab": {
          "base_uri": "https://localhost:8080/"
        },
        "outputId": "b5272a8b-c31a-410d-86f0-f3165b5c6223"
      },
      "execution_count": 123,
      "outputs": [
        {
          "output_type": "execute_result",
          "data": {
            "text/plain": [
              "battery_power    0\n",
              "blue             0\n",
              "clock_speed      0\n",
              "dual_sim         0\n",
              "fc               0\n",
              "four_g           0\n",
              "int_memory       0\n",
              "m_dep            0\n",
              "mobile_wt        0\n",
              "n_cores          0\n",
              "pc               0\n",
              "px_height        0\n",
              "px_width         0\n",
              "ram              0\n",
              "sc_h             0\n",
              "sc_w             0\n",
              "talk_time        0\n",
              "three_g          0\n",
              "touch_screen     0\n",
              "wifi             0\n",
              "price_range      0\n",
              "dtype: int64"
            ]
          },
          "metadata": {},
          "execution_count": 123
        }
      ]
    },
    {
      "cell_type": "markdown",
      "source": [
        "**Finding an Outliers**"
      ],
      "metadata": {
        "id": "2HTNaXeWGwO7"
      }
    },
    {
      "cell_type": "code",
      "source": [
        "print(round(dataset_Mobile.describe(),2))"
      ],
      "metadata": {
        "id": "A0fNeBQrHwJT",
        "colab": {
          "base_uri": "https://localhost:8080/"
        },
        "outputId": "a8a7a095-3d6f-4341-ac7b-8d018468b6d4"
      },
      "execution_count": 124,
      "outputs": [
        {
          "output_type": "stream",
          "name": "stdout",
          "text": [
            "       battery_power    blue  clock_speed  dual_sim       fc   four_g  \\\n",
            "count        2000.00  2000.0      2000.00   2000.00  2000.00  2000.00   \n",
            "mean         1238.52     0.5         1.52      0.51     4.31     0.52   \n",
            "std           439.42     0.5         0.82      0.50     4.34     0.50   \n",
            "min           501.00     0.0         0.50      0.00     0.00     0.00   \n",
            "25%           851.75     0.0         0.70      0.00     1.00     0.00   \n",
            "50%          1226.00     0.0         1.50      1.00     3.00     1.00   \n",
            "75%          1615.25     1.0         2.20      1.00     7.00     1.00   \n",
            "max          1998.00     1.0         3.00      1.00    19.00     1.00   \n",
            "\n",
            "       int_memory    m_dep  mobile_wt  n_cores  ...  px_height  px_width  \\\n",
            "count     2000.00  2000.00    2000.00  2000.00  ...    2000.00   2000.00   \n",
            "mean        32.05     0.50     140.25     4.52  ...     645.11   1251.52   \n",
            "std         18.15     0.29      35.40     2.29  ...     443.78    432.20   \n",
            "min          2.00     0.10      80.00     1.00  ...       0.00    500.00   \n",
            "25%         16.00     0.20     109.00     3.00  ...     282.75    874.75   \n",
            "50%         32.00     0.50     141.00     4.00  ...     564.00   1247.00   \n",
            "75%         48.00     0.80     170.00     7.00  ...     947.25   1633.00   \n",
            "max         64.00     1.00     200.00     8.00  ...    1960.00   1998.00   \n",
            "\n",
            "           ram     sc_h     sc_w  talk_time  three_g  touch_screen     wifi  \\\n",
            "count  2000.00  2000.00  2000.00    2000.00  2000.00        2000.0  2000.00   \n",
            "mean   2124.21    12.31     5.77      11.01     0.76           0.5     0.51   \n",
            "std    1084.73     4.21     4.36       5.46     0.43           0.5     0.50   \n",
            "min     256.00     5.00     0.00       2.00     0.00           0.0     0.00   \n",
            "25%    1207.50     9.00     2.00       6.00     1.00           0.0     0.00   \n",
            "50%    2146.50    12.00     5.00      11.00     1.00           1.0     1.00   \n",
            "75%    3064.50    16.00     9.00      16.00     1.00           1.0     1.00   \n",
            "max    3998.00    19.00    18.00      20.00     1.00           1.0     1.00   \n",
            "\n",
            "       price_range  \n",
            "count      2000.00  \n",
            "mean          1.50  \n",
            "std           1.12  \n",
            "min           0.00  \n",
            "25%           0.75  \n",
            "50%           1.50  \n",
            "75%           2.25  \n",
            "max           3.00  \n",
            "\n",
            "[8 rows x 21 columns]\n"
          ]
        }
      ]
    },
    {
      "cell_type": "markdown",
      "source": [
        "**Rearrange Data Set into features and target**"
      ],
      "metadata": {
        "id": "xylwSSH1qtMo"
      }
    },
    {
      "cell_type": "code",
      "source": [
        "x = dataset_Mobile.drop(columns=['price_range'])\n",
        "y = dataset_Mobile['price_range']"
      ],
      "metadata": {
        "id": "HvC_GfP9qxEd"
      },
      "execution_count": 125,
      "outputs": []
    },
    {
      "cell_type": "markdown",
      "source": [
        "**Normalizing the Data**"
      ],
      "metadata": {
        "id": "wgXqG2yNKMj8"
      }
    },
    {
      "cell_type": "code",
      "source": [
        "from sklearn import preprocessing\n",
        "scaler = preprocessing.MinMaxScaler()\n",
        "names = dataset_Mobile.columns\n",
        "dt = scaler.fit_transform(dataset_Mobile)\n",
        "scaled_df = pd.DataFrame(dt, columns=names)\n",
        "scaled_df.head()"
      ],
      "metadata": {
        "id": "3eLkqKVHKSwf",
        "colab": {
          "base_uri": "https://localhost:8080/",
          "height": 299
        },
        "outputId": "02ac5f73-9e5e-4351-823d-03d6d31978b3"
      },
      "execution_count": 126,
      "outputs": [
        {
          "output_type": "execute_result",
          "data": {
            "text/plain": [
              "   battery_power  blue  clock_speed  dual_sim        fc  four_g  int_memory  \\\n",
              "0       0.227789   0.0         0.68       0.0  0.052632     0.0    0.080645   \n",
              "1       0.347361   1.0         0.00       1.0  0.000000     1.0    0.822581   \n",
              "2       0.041416   1.0         0.00       1.0  0.105263     1.0    0.629032   \n",
              "3       0.076152   1.0         0.80       0.0  0.000000     0.0    0.129032   \n",
              "4       0.881764   1.0         0.28       0.0  0.684211     1.0    0.677419   \n",
              "\n",
              "      m_dep  mobile_wt   n_cores  ...  px_height  px_width       ram  \\\n",
              "0  0.555556   0.900000  0.142857  ...   0.010204  0.170895  0.612774   \n",
              "1  0.666667   0.466667  0.285714  ...   0.461735  0.993324  0.634687   \n",
              "2  0.888889   0.541667  0.571429  ...   0.644388  0.811749  0.627205   \n",
              "3  0.777778   0.425000  0.714286  ...   0.620408  0.858478  0.671566   \n",
              "4  0.555556   0.508333  0.142857  ...   0.616327  0.475300  0.308658   \n",
              "\n",
              "       sc_h      sc_w  talk_time  three_g  touch_screen  wifi  price_range  \n",
              "0  0.285714  0.388889   0.944444      0.0           0.0   1.0     0.333333  \n",
              "1  0.857143  0.166667   0.277778      1.0           1.0   0.0     0.666667  \n",
              "2  0.428571  0.111111   0.388889      1.0           1.0   0.0     0.666667  \n",
              "3  0.785714  0.444444   0.500000      1.0           0.0   0.0     0.666667  \n",
              "4  0.214286  0.111111   0.722222      1.0           1.0   0.0     0.333333  \n",
              "\n",
              "[5 rows x 21 columns]"
            ],
            "text/html": [
              "\n",
              "  <div id=\"df-3a947006-3fa0-4cd0-b7d1-629c9542dbf6\">\n",
              "    <div class=\"colab-df-container\">\n",
              "      <div>\n",
              "<style scoped>\n",
              "    .dataframe tbody tr th:only-of-type {\n",
              "        vertical-align: middle;\n",
              "    }\n",
              "\n",
              "    .dataframe tbody tr th {\n",
              "        vertical-align: top;\n",
              "    }\n",
              "\n",
              "    .dataframe thead th {\n",
              "        text-align: right;\n",
              "    }\n",
              "</style>\n",
              "<table border=\"1\" class=\"dataframe\">\n",
              "  <thead>\n",
              "    <tr style=\"text-align: right;\">\n",
              "      <th></th>\n",
              "      <th>battery_power</th>\n",
              "      <th>blue</th>\n",
              "      <th>clock_speed</th>\n",
              "      <th>dual_sim</th>\n",
              "      <th>fc</th>\n",
              "      <th>four_g</th>\n",
              "      <th>int_memory</th>\n",
              "      <th>m_dep</th>\n",
              "      <th>mobile_wt</th>\n",
              "      <th>n_cores</th>\n",
              "      <th>...</th>\n",
              "      <th>px_height</th>\n",
              "      <th>px_width</th>\n",
              "      <th>ram</th>\n",
              "      <th>sc_h</th>\n",
              "      <th>sc_w</th>\n",
              "      <th>talk_time</th>\n",
              "      <th>three_g</th>\n",
              "      <th>touch_screen</th>\n",
              "      <th>wifi</th>\n",
              "      <th>price_range</th>\n",
              "    </tr>\n",
              "  </thead>\n",
              "  <tbody>\n",
              "    <tr>\n",
              "      <th>0</th>\n",
              "      <td>0.227789</td>\n",
              "      <td>0.0</td>\n",
              "      <td>0.68</td>\n",
              "      <td>0.0</td>\n",
              "      <td>0.052632</td>\n",
              "      <td>0.0</td>\n",
              "      <td>0.080645</td>\n",
              "      <td>0.555556</td>\n",
              "      <td>0.900000</td>\n",
              "      <td>0.142857</td>\n",
              "      <td>...</td>\n",
              "      <td>0.010204</td>\n",
              "      <td>0.170895</td>\n",
              "      <td>0.612774</td>\n",
              "      <td>0.285714</td>\n",
              "      <td>0.388889</td>\n",
              "      <td>0.944444</td>\n",
              "      <td>0.0</td>\n",
              "      <td>0.0</td>\n",
              "      <td>1.0</td>\n",
              "      <td>0.333333</td>\n",
              "    </tr>\n",
              "    <tr>\n",
              "      <th>1</th>\n",
              "      <td>0.347361</td>\n",
              "      <td>1.0</td>\n",
              "      <td>0.00</td>\n",
              "      <td>1.0</td>\n",
              "      <td>0.000000</td>\n",
              "      <td>1.0</td>\n",
              "      <td>0.822581</td>\n",
              "      <td>0.666667</td>\n",
              "      <td>0.466667</td>\n",
              "      <td>0.285714</td>\n",
              "      <td>...</td>\n",
              "      <td>0.461735</td>\n",
              "      <td>0.993324</td>\n",
              "      <td>0.634687</td>\n",
              "      <td>0.857143</td>\n",
              "      <td>0.166667</td>\n",
              "      <td>0.277778</td>\n",
              "      <td>1.0</td>\n",
              "      <td>1.0</td>\n",
              "      <td>0.0</td>\n",
              "      <td>0.666667</td>\n",
              "    </tr>\n",
              "    <tr>\n",
              "      <th>2</th>\n",
              "      <td>0.041416</td>\n",
              "      <td>1.0</td>\n",
              "      <td>0.00</td>\n",
              "      <td>1.0</td>\n",
              "      <td>0.105263</td>\n",
              "      <td>1.0</td>\n",
              "      <td>0.629032</td>\n",
              "      <td>0.888889</td>\n",
              "      <td>0.541667</td>\n",
              "      <td>0.571429</td>\n",
              "      <td>...</td>\n",
              "      <td>0.644388</td>\n",
              "      <td>0.811749</td>\n",
              "      <td>0.627205</td>\n",
              "      <td>0.428571</td>\n",
              "      <td>0.111111</td>\n",
              "      <td>0.388889</td>\n",
              "      <td>1.0</td>\n",
              "      <td>1.0</td>\n",
              "      <td>0.0</td>\n",
              "      <td>0.666667</td>\n",
              "    </tr>\n",
              "    <tr>\n",
              "      <th>3</th>\n",
              "      <td>0.076152</td>\n",
              "      <td>1.0</td>\n",
              "      <td>0.80</td>\n",
              "      <td>0.0</td>\n",
              "      <td>0.000000</td>\n",
              "      <td>0.0</td>\n",
              "      <td>0.129032</td>\n",
              "      <td>0.777778</td>\n",
              "      <td>0.425000</td>\n",
              "      <td>0.714286</td>\n",
              "      <td>...</td>\n",
              "      <td>0.620408</td>\n",
              "      <td>0.858478</td>\n",
              "      <td>0.671566</td>\n",
              "      <td>0.785714</td>\n",
              "      <td>0.444444</td>\n",
              "      <td>0.500000</td>\n",
              "      <td>1.0</td>\n",
              "      <td>0.0</td>\n",
              "      <td>0.0</td>\n",
              "      <td>0.666667</td>\n",
              "    </tr>\n",
              "    <tr>\n",
              "      <th>4</th>\n",
              "      <td>0.881764</td>\n",
              "      <td>1.0</td>\n",
              "      <td>0.28</td>\n",
              "      <td>0.0</td>\n",
              "      <td>0.684211</td>\n",
              "      <td>1.0</td>\n",
              "      <td>0.677419</td>\n",
              "      <td>0.555556</td>\n",
              "      <td>0.508333</td>\n",
              "      <td>0.142857</td>\n",
              "      <td>...</td>\n",
              "      <td>0.616327</td>\n",
              "      <td>0.475300</td>\n",
              "      <td>0.308658</td>\n",
              "      <td>0.214286</td>\n",
              "      <td>0.111111</td>\n",
              "      <td>0.722222</td>\n",
              "      <td>1.0</td>\n",
              "      <td>1.0</td>\n",
              "      <td>0.0</td>\n",
              "      <td>0.333333</td>\n",
              "    </tr>\n",
              "  </tbody>\n",
              "</table>\n",
              "<p>5 rows × 21 columns</p>\n",
              "</div>\n",
              "      <button class=\"colab-df-convert\" onclick=\"convertToInteractive('df-3a947006-3fa0-4cd0-b7d1-629c9542dbf6')\"\n",
              "              title=\"Convert this dataframe to an interactive table.\"\n",
              "              style=\"display:none;\">\n",
              "        \n",
              "  <svg xmlns=\"http://www.w3.org/2000/svg\" height=\"24px\"viewBox=\"0 0 24 24\"\n",
              "       width=\"24px\">\n",
              "    <path d=\"M0 0h24v24H0V0z\" fill=\"none\"/>\n",
              "    <path d=\"M18.56 5.44l.94 2.06.94-2.06 2.06-.94-2.06-.94-.94-2.06-.94 2.06-2.06.94zm-11 1L8.5 8.5l.94-2.06 2.06-.94-2.06-.94L8.5 2.5l-.94 2.06-2.06.94zm10 10l.94 2.06.94-2.06 2.06-.94-2.06-.94-.94-2.06-.94 2.06-2.06.94z\"/><path d=\"M17.41 7.96l-1.37-1.37c-.4-.4-.92-.59-1.43-.59-.52 0-1.04.2-1.43.59L10.3 9.45l-7.72 7.72c-.78.78-.78 2.05 0 2.83L4 21.41c.39.39.9.59 1.41.59.51 0 1.02-.2 1.41-.59l7.78-7.78 2.81-2.81c.8-.78.8-2.07 0-2.86zM5.41 20L4 18.59l7.72-7.72 1.47 1.35L5.41 20z\"/>\n",
              "  </svg>\n",
              "      </button>\n",
              "      \n",
              "  <style>\n",
              "    .colab-df-container {\n",
              "      display:flex;\n",
              "      flex-wrap:wrap;\n",
              "      gap: 12px;\n",
              "    }\n",
              "\n",
              "    .colab-df-convert {\n",
              "      background-color: #E8F0FE;\n",
              "      border: none;\n",
              "      border-radius: 50%;\n",
              "      cursor: pointer;\n",
              "      display: none;\n",
              "      fill: #1967D2;\n",
              "      height: 32px;\n",
              "      padding: 0 0 0 0;\n",
              "      width: 32px;\n",
              "    }\n",
              "\n",
              "    .colab-df-convert:hover {\n",
              "      background-color: #E2EBFA;\n",
              "      box-shadow: 0px 1px 2px rgba(60, 64, 67, 0.3), 0px 1px 3px 1px rgba(60, 64, 67, 0.15);\n",
              "      fill: #174EA6;\n",
              "    }\n",
              "\n",
              "    [theme=dark] .colab-df-convert {\n",
              "      background-color: #3B4455;\n",
              "      fill: #D2E3FC;\n",
              "    }\n",
              "\n",
              "    [theme=dark] .colab-df-convert:hover {\n",
              "      background-color: #434B5C;\n",
              "      box-shadow: 0px 1px 3px 1px rgba(0, 0, 0, 0.15);\n",
              "      filter: drop-shadow(0px 1px 2px rgba(0, 0, 0, 0.3));\n",
              "      fill: #FFFFFF;\n",
              "    }\n",
              "  </style>\n",
              "\n",
              "      <script>\n",
              "        const buttonEl =\n",
              "          document.querySelector('#df-3a947006-3fa0-4cd0-b7d1-629c9542dbf6 button.colab-df-convert');\n",
              "        buttonEl.style.display =\n",
              "          google.colab.kernel.accessAllowed ? 'block' : 'none';\n",
              "\n",
              "        async function convertToInteractive(key) {\n",
              "          const element = document.querySelector('#df-3a947006-3fa0-4cd0-b7d1-629c9542dbf6');\n",
              "          const dataTable =\n",
              "            await google.colab.kernel.invokeFunction('convertToInteractive',\n",
              "                                                     [key], {});\n",
              "          if (!dataTable) return;\n",
              "\n",
              "          const docLinkHtml = 'Like what you see? Visit the ' +\n",
              "            '<a target=\"_blank\" href=https://colab.research.google.com/notebooks/data_table.ipynb>data table notebook</a>'\n",
              "            + ' to learn more about interactive tables.';\n",
              "          element.innerHTML = '';\n",
              "          dataTable['output_type'] = 'display_data';\n",
              "          await google.colab.output.renderOutput(dataTable, element);\n",
              "          const docLink = document.createElement('div');\n",
              "          docLink.innerHTML = docLinkHtml;\n",
              "          element.appendChild(docLink);\n",
              "        }\n",
              "      </script>\n",
              "    </div>\n",
              "  </div>\n",
              "  "
            ]
          },
          "metadata": {},
          "execution_count": 126
        }
      ]
    },
    {
      "cell_type": "markdown",
      "source": [
        "**Splitting Data into Train and Test Sets**"
      ],
      "metadata": {
        "id": "cBGykFduyvJp"
      }
    },
    {
      "cell_type": "code",
      "source": [
        "from sklearn.model_selection import train_test_split\n",
        "\n",
        "from sklearn.model_selection import train_test_split\n",
        "X_train,X_test,Y_train,Y_test = train_test_split(x,y,test_size = 0.2,random_state=0)\n",
        "#Splitting the dataset into 80% training data and 20% testing data.\n",
        "\n",
        "print (\"X_train shape = \", X_train.shape, \"y_train shape = \", Y_train.shape)\n",
        "print (\"X_test shape = \", X_test.shape, \"y_test shape = \", Y_test.shape)\n"
      ],
      "metadata": {
        "id": "NoHw1K2o0T7P",
        "colab": {
          "base_uri": "https://localhost:8080/"
        },
        "outputId": "375b135e-08b8-4475-8b2f-77d6313427c2"
      },
      "execution_count": 127,
      "outputs": [
        {
          "output_type": "stream",
          "name": "stdout",
          "text": [
            "X_train shape =  (1600, 20) y_train shape =  (1600,)\n",
            "X_test shape =  (400, 20) y_test shape =  (400,)\n"
          ]
        }
      ]
    },
    {
      "cell_type": "markdown",
      "source": [
        "**Feature Extraction**"
      ],
      "metadata": {
        "id": "uBwZxc23RTYZ"
      }
    },
    {
      "cell_type": "code",
      "source": [
        "X_train.dtypes #checking data types in training set"
      ],
      "metadata": {
        "id": "nVJBLazAM2PJ",
        "colab": {
          "base_uri": "https://localhost:8080/"
        },
        "outputId": "6e405b38-0a88-4c38-babc-5ccaa6e00fc6"
      },
      "execution_count": 128,
      "outputs": [
        {
          "output_type": "execute_result",
          "data": {
            "text/plain": [
              "battery_power      int64\n",
              "blue               int64\n",
              "clock_speed      float64\n",
              "dual_sim           int64\n",
              "fc                 int64\n",
              "four_g             int64\n",
              "int_memory         int64\n",
              "m_dep            float64\n",
              "mobile_wt          int64\n",
              "n_cores            int64\n",
              "pc                 int64\n",
              "px_height          int64\n",
              "px_width           int64\n",
              "ram                int64\n",
              "sc_h               int64\n",
              "sc_w               int64\n",
              "talk_time          int64\n",
              "three_g            int64\n",
              "touch_screen       int64\n",
              "wifi               int64\n",
              "dtype: object"
            ]
          },
          "metadata": {},
          "execution_count": 128
        }
      ]
    },
    {
      "cell_type": "code",
      "source": [
        "X_test.dtypes # checking data types in X_test"
      ],
      "metadata": {
        "id": "YDNYWOHpM518",
        "colab": {
          "base_uri": "https://localhost:8080/"
        },
        "outputId": "d0b67b1a-5198-4f54-a198-cbebf61c7e4b"
      },
      "execution_count": 129,
      "outputs": [
        {
          "output_type": "execute_result",
          "data": {
            "text/plain": [
              "battery_power      int64\n",
              "blue               int64\n",
              "clock_speed      float64\n",
              "dual_sim           int64\n",
              "fc                 int64\n",
              "four_g             int64\n",
              "int_memory         int64\n",
              "m_dep            float64\n",
              "mobile_wt          int64\n",
              "n_cores            int64\n",
              "pc                 int64\n",
              "px_height          int64\n",
              "px_width           int64\n",
              "ram                int64\n",
              "sc_h               int64\n",
              "sc_w               int64\n",
              "talk_time          int64\n",
              "three_g            int64\n",
              "touch_screen       int64\n",
              "wifi               int64\n",
              "dtype: object"
            ]
          },
          "metadata": {},
          "execution_count": 129
        }
      ]
    },
    {
      "cell_type": "code",
      "source": [
        "X_test.isnull().sum() # check missing values in numerical variables in X_test"
      ],
      "metadata": {
        "id": "zi8le3LrNi0p",
        "colab": {
          "base_uri": "https://localhost:8080/"
        },
        "outputId": "5ee57e4d-dbb4-4fa4-aeac-625b5e109129"
      },
      "execution_count": 130,
      "outputs": [
        {
          "output_type": "execute_result",
          "data": {
            "text/plain": [
              "battery_power    0\n",
              "blue             0\n",
              "clock_speed      0\n",
              "dual_sim         0\n",
              "fc               0\n",
              "four_g           0\n",
              "int_memory       0\n",
              "m_dep            0\n",
              "mobile_wt        0\n",
              "n_cores          0\n",
              "pc               0\n",
              "px_height        0\n",
              "px_width         0\n",
              "ram              0\n",
              "sc_h             0\n",
              "sc_w             0\n",
              "talk_time        0\n",
              "three_g          0\n",
              "touch_screen     0\n",
              "wifi             0\n",
              "dtype: int64"
            ]
          },
          "metadata": {},
          "execution_count": 130
        }
      ]
    },
    {
      "cell_type": "code",
      "source": [
        "X_train.isnull().sum() # checking missing values in numerical variables in X_train"
      ],
      "metadata": {
        "id": "fJJazrQeNnvu",
        "colab": {
          "base_uri": "https://localhost:8080/"
        },
        "outputId": "5542e848-5b65-4315-be45-96cddc53f9c0"
      },
      "execution_count": 131,
      "outputs": [
        {
          "output_type": "execute_result",
          "data": {
            "text/plain": [
              "battery_power    0\n",
              "blue             0\n",
              "clock_speed      0\n",
              "dual_sim         0\n",
              "fc               0\n",
              "four_g           0\n",
              "int_memory       0\n",
              "m_dep            0\n",
              "mobile_wt        0\n",
              "n_cores          0\n",
              "pc               0\n",
              "px_height        0\n",
              "px_width         0\n",
              "ram              0\n",
              "sc_h             0\n",
              "sc_w             0\n",
              "talk_time        0\n",
              "three_g          0\n",
              "touch_screen     0\n",
              "wifi             0\n",
              "dtype: int64"
            ]
          },
          "metadata": {},
          "execution_count": 131
        }
      ]
    },
    {
      "cell_type": "markdown",
      "source": [
        "**KNN Clasification**"
      ],
      "metadata": {
        "id": "0AkPlff7SH05"
      }
    },
    {
      "cell_type": "code",
      "source": [
        "from sklearn.neighbors import KNeighborsClassifier\n",
        "from sklearn import metrics\n",
        "k_range = range(1,10)\n",
        "scores={}\n",
        "scores_list=[]\n",
        "for k in k_range:\n",
        "  knn= KNeighborsClassifier(n_neighbors=k)\n",
        "  knn.fit (X_train,Y_train)\n",
        "  y_pred = knn.predict(X_test)\n",
        "  scores[k]= metrics.accuracy_score (Y_test, y_pred)\n",
        "  scores_list.append(metrics.accuracy_score(Y_test,y_pred))"
      ],
      "metadata": {
        "id": "bqQiQyHLK_iK"
      },
      "execution_count": 132,
      "outputs": []
    },
    {
      "cell_type": "markdown",
      "source": [
        "**Plot the relationship between k values**"
      ],
      "metadata": {
        "id": "MMGABPyESlWh"
      }
    },
    {
      "cell_type": "code",
      "source": [
        "%matplotlib inline\n",
        "import matplotlib.pyplot as plt\n",
        "\n",
        "plt.plot(k_range,scores_list)\n",
        "plt.xlabel('Values of K for KNN')\n",
        "plt.ylabel('Testing Accuracy')"
      ],
      "metadata": {
        "id": "pYdx7VFcLhNl",
        "colab": {
          "base_uri": "https://localhost:8080/",
          "height": 296
        },
        "outputId": "d8fc8874-1372-4662-fc5c-5fa65073536a"
      },
      "execution_count": 133,
      "outputs": [
        {
          "output_type": "execute_result",
          "data": {
            "text/plain": [
              "Text(0, 0.5, 'Testing Accuracy')"
            ]
          },
          "metadata": {},
          "execution_count": 133
        },
        {
          "output_type": "display_data",
          "data": {
            "text/plain": [
              "<Figure size 432x288 with 1 Axes>"
            ],
            "image/png": "[encoded data removed]"
          },
          "metadata": {
            "needs_background": "light"
          }
        }
      ]
    },
    {
      "cell_type": "markdown",
      "source": [
        "**Fitting the K value = 7**"
      ],
      "metadata": {
        "id": "s_mjxIFdTO08"
      }
    },
    {
      "cell_type": "code",
      "source": [
        "knn = KNeighborsClassifier(n_neighbors=7)\n",
        "knn.fit(X_train,Y_train)"
      ],
      "metadata": {
        "id": "pXEMHvkBMk2T",
        "colab": {
          "base_uri": "https://localhost:8080/"
        },
        "outputId": "e7efec13-8367-4db7-d0ad-4f4ecb04038e"
      },
      "execution_count": 134,
      "outputs": [
        {
          "output_type": "execute_result",
          "data": {
            "text/plain": [
              "KNeighborsClassifier(n_neighbors=7)"
            ]
          },
          "metadata": {},
          "execution_count": 134
        }
      ]
    },
    {
      "cell_type": "markdown",
      "source": [
        "**Predicted Values**"
      ],
      "metadata": {
        "id": "knuvy077UFd2"
      }
    },
    {
      "cell_type": "code",
      "source": [
        "y_prediction = knn.predict(X_test)\n",
        "y_prediction"
      ],
      "metadata": {
        "id": "TkslNXaXUcZL",
        "colab": {
          "base_uri": "https://localhost:8080/"
        },
        "outputId": "151c0e06-606d-4b06-8120-bd66c9322c2a"
      },
      "execution_count": 135,
      "outputs": [
        {
          "output_type": "execute_result",
          "data": {
            "text/plain": [
              "array([3, 0, 2, 2, 2, 0, 0, 3, 3, 1, 0, 3, 0, 2, 3, 0, 3, 2, 2, 1, 0, 0,\n",
              "       3, 1, 2, 2, 3, 1, 3, 1, 1, 0, 2, 0, 1, 3, 0, 0, 3, 3, 3, 1, 3, 3,\n",
              "       1, 3, 0, 1, 3, 1, 1, 3, 0, 3, 0, 2, 2, 2, 0, 3, 3, 1, 3, 2, 1, 2,\n",
              "       3, 2, 2, 2, 3, 2, 1, 0, 1, 3, 2, 1, 1, 2, 3, 3, 3, 0, 0, 0, 2, 1,\n",
              "       2, 3, 1, 2, 2, 1, 0, 3, 3, 3, 0, 3, 1, 1, 3, 1, 3, 2, 2, 3, 2, 3,\n",
              "       3, 0, 0, 1, 3, 3, 0, 0, 1, 0, 0, 3, 2, 2, 1, 2, 1, 1, 0, 2, 1, 3,\n",
              "       2, 3, 3, 3, 3, 2, 0, 1, 1, 2, 1, 3, 0, 3, 0, 0, 2, 0, 1, 1, 1, 1,\n",
              "       3, 0, 0, 3, 1, 3, 2, 1, 3, 1, 2, 3, 3, 2, 1, 0, 3, 2, 2, 3, 3, 0,\n",
              "       2, 2, 3, 0, 2, 1, 0, 1, 2, 1, 2, 0, 3, 3, 1, 1, 0, 2, 3, 0, 1, 3,\n",
              "       2, 0, 3, 3, 3, 1, 2, 3, 3, 3, 0, 0, 0, 2, 3, 3, 0, 0, 1, 3, 1, 3,\n",
              "       3, 3, 0, 0, 2, 2, 3, 1, 0, 2, 0, 0, 0, 3, 3, 0, 2, 2, 1, 1, 0, 2,\n",
              "       3, 3, 0, 0, 1, 3, 3, 1, 3, 0, 3, 1, 1, 0, 2, 3, 3, 2, 0, 0, 1, 2,\n",
              "       3, 2, 2, 3, 1, 1, 0, 3, 3, 2, 1, 3, 3, 2, 2, 1, 0, 2, 2, 1, 0, 0,\n",
              "       2, 2, 2, 2, 0, 1, 3, 0, 1, 2, 3, 0, 2, 0, 1, 1, 3, 0, 0, 1, 3, 1,\n",
              "       2, 0, 2, 0, 3, 0, 3, 3, 2, 3, 1, 2, 2, 1, 1, 1, 0, 1, 0, 3, 1, 0,\n",
              "       3, 0, 0, 0, 2, 0, 3, 1, 2, 0, 1, 3, 0, 2, 2, 1, 2, 1, 1, 0, 2, 0,\n",
              "       0, 3, 1, 2, 3, 2, 2, 0, 3, 2, 2, 1, 3, 2, 3, 3, 3, 0, 2, 0, 3, 0,\n",
              "       1, 1, 2, 2, 1, 2, 1, 2, 0, 1, 2, 3, 0, 0, 1, 3, 0, 3, 0, 1, 2, 1,\n",
              "       1, 0, 3, 1])"
            ]
          },
          "metadata": {},
          "execution_count": 135
        }
      ]
    },
    {
      "cell_type": "markdown",
      "source": [
        "**Evaluating the KNN Classifier**"
      ],
      "metadata": {
        "id": "f4bVbFfXY3aD"
      }
    },
    {
      "cell_type": "code",
      "source": [
        "accuracy= knn.score(X_test,Y_test)\n",
        "accuracy\n"
      ],
      "metadata": {
        "id": "QFJ6j6lMW-li",
        "colab": {
          "base_uri": "https://localhost:8080/"
        },
        "outputId": "a01e9bf1-8933-4a63-bb83-f0c18db02df0"
      },
      "execution_count": 136,
      "outputs": [
        {
          "output_type": "execute_result",
          "data": {
            "text/plain": [
              "0.9525"
            ]
          },
          "metadata": {},
          "execution_count": 136
        }
      ]
    },
    {
      "cell_type": "markdown",
      "source": [
        "**Generating the confusion matrix**"
      ],
      "metadata": {
        "id": "xQZjD6tT-2jP"
      }
    },
    {
      "cell_type": "code",
      "source": [
        "from sklearn.metrics import confusion_matrix\n",
        "\n",
        "cf_matrix = confusion_matrix(Y_test, y_prediction)\n",
        "\n",
        "print(cf_matrix)"
      ],
      "metadata": {
        "colab": {
          "base_uri": "https://localhost:8080/"
        },
        "id": "OY3z451v-MwJ",
        "outputId": "ca0893f9-218a-406e-cf84-96eb1dcbc744"
      },
      "execution_count": 137,
      "outputs": [
        {
          "output_type": "stream",
          "name": "stdout",
          "text": [
            "[[ 95   0   0   0]\n",
            " [  3  87   2   0]\n",
            " [  0   5  89   5]\n",
            " [  0   0   4 110]]\n"
          ]
        }
      ]
    },
    {
      "cell_type": "markdown",
      "source": [
        "*Question_2(MLP)*"
      ],
      "metadata": {
        "id": "8d6sgDrDmLGy"
      }
    },
    {
      "cell_type": "markdown",
      "source": [
        "**Importing Modules**"
      ],
      "metadata": {
        "id": "GTM8OQsExUZQ"
      }
    },
    {
      "cell_type": "code",
      "source": [
        "from tensorflow import keras\n",
        "import numpy as np\n",
        "from keras.models import Sequential\n",
        "from keras.layers import Dense, Activation\n",
        "import matplotlib.pyplot as plt\n",
        "\n"
      ],
      "metadata": {
        "id": "6YL8zlMhmlM3"
      },
      "execution_count": 138,
      "outputs": []
    },
    {
      "cell_type": "code",
      "source": [
        "dataset_Mobile = pd.read_csv('Mobile_Dataset.csv')\n",
        "dataset_Mobile.head()"
      ],
      "metadata": {
        "id": "7qtQKwv7xuLd",
        "colab": {
          "base_uri": "https://localhost:8080/",
          "height": 299
        },
        "outputId": "292068f4-86b7-4a4f-bcf7-e95ddb37f265"
      },
      "execution_count": 139,
      "outputs": [
        {
          "output_type": "execute_result",
          "data": {
            "text/plain": [
              "   battery_power  blue  clock_speed  dual_sim  fc  four_g  int_memory  m_dep  \\\n",
              "0            842     0          2.2         0   1       0           7    0.6   \n",
              "1           1021     1          0.5         1   0       1          53    0.7   \n",
              "2            563     1          0.5         1   2       1          41    0.9   \n",
              "3            615     1          2.5         0   0       0          10    0.8   \n",
              "4           1821     1          1.2         0  13       1          44    0.6   \n",
              "\n",
              "   mobile_wt  n_cores  ...  px_height  px_width   ram  sc_h  sc_w  talk_time  \\\n",
              "0        188        2  ...         20       756  2549     9     7         19   \n",
              "1        136        3  ...        905      1988  2631    17     3          7   \n",
              "2        145        5  ...       1263      1716  2603    11     2          9   \n",
              "3        131        6  ...       1216      1786  2769    16     8         11   \n",
              "4        141        2  ...       1208      1212  1411     8     2         15   \n",
              "\n",
              "   three_g  touch_screen  wifi  price_range  \n",
              "0        0             0     1            1  \n",
              "1        1             1     0            2  \n",
              "2        1             1     0            2  \n",
              "3        1             0     0            2  \n",
              "4        1             1     0            1  \n",
              "\n",
              "[5 rows x 21 columns]"
            ],
            "text/html": [
              "\n",
              "  <div id=\"df-9119f7af-3857-447e-873e-8aab741c5fe2\">\n",
              "    <div class=\"colab-df-container\">\n",
              "      <div>\n",
              "<style scoped>\n",
              "    .dataframe tbody tr th:only-of-type {\n",
              "        vertical-align: middle;\n",
              "    }\n",
              "\n",
              "    .dataframe tbody tr th {\n",
              "        vertical-align: top;\n",
              "    }\n",
              "\n",
              "    .dataframe thead th {\n",
              "        text-align: right;\n",
              "    }\n",
              "</style>\n",
              "<table border=\"1\" class=\"dataframe\">\n",
              "  <thead>\n",
              "    <tr style=\"text-align: right;\">\n",
              "      <th></th>\n",
              "      <th>battery_power</th>\n",
              "      <th>blue</th>\n",
              "      <th>clock_speed</th>\n",
              "      <th>dual_sim</th>\n",
              "      <th>fc</th>\n",
              "      <th>four_g</th>\n",
              "      <th>int_memory</th>\n",
              "      <th>m_dep</th>\n",
              "      <th>mobile_wt</th>\n",
              "      <th>n_cores</th>\n",
              "      <th>...</th>\n",
              "      <th>px_height</th>\n",
              "      <th>px_width</th>\n",
              "      <th>ram</th>\n",
              "      <th>sc_h</th>\n",
              "      <th>sc_w</th>\n",
              "      <th>talk_time</th>\n",
              "      <th>three_g</th>\n",
              "      <th>touch_screen</th>\n",
              "      <th>wifi</th>\n",
              "      <th>price_range</th>\n",
              "    </tr>\n",
              "  </thead>\n",
              "  <tbody>\n",
              "    <tr>\n",
              "      <th>0</th>\n",
              "      <td>842</td>\n",
              "      <td>0</td>\n",
              "      <td>2.2</td>\n",
              "      <td>0</td>\n",
              "      <td>1</td>\n",
              "      <td>0</td>\n",
              "      <td>7</td>\n",
              "      <td>0.6</td>\n",
              "      <td>188</td>\n",
              "      <td>2</td>\n",
              "      <td>...</td>\n",
              "      <td>20</td>\n",
              "      <td>756</td>\n",
              "      <td>2549</td>\n",
              "      <td>9</td>\n",
              "      <td>7</td>\n",
              "      <td>19</td>\n",
              "      <td>0</td>\n",
              "      <td>0</td>\n",
              "      <td>1</td>\n",
              "      <td>1</td>\n",
              "    </tr>\n",
              "    <tr>\n",
              "      <th>1</th>\n",
              "      <td>1021</td>\n",
              "      <td>1</td>\n",
              "      <td>0.5</td>\n",
              "      <td>1</td>\n",
              "      <td>0</td>\n",
              "      <td>1</td>\n",
              "      <td>53</td>\n",
              "      <td>0.7</td>\n",
              "      <td>136</td>\n",
              "      <td>3</td>\n",
              "      <td>...</td>\n",
              "      <td>905</td>\n",
              "      <td>1988</td>\n",
              "      <td>2631</td>\n",
              "      <td>17</td>\n",
              "      <td>3</td>\n",
              "      <td>7</td>\n",
              "      <td>1</td>\n",
              "      <td>1</td>\n",
              "      <td>0</td>\n",
              "      <td>2</td>\n",
              "    </tr>\n",
              "    <tr>\n",
              "      <th>2</th>\n",
              "      <td>563</td>\n",
              "      <td>1</td>\n",
              "      <td>0.5</td>\n",
              "      <td>1</td>\n",
              "      <td>2</td>\n",
              "      <td>1</td>\n",
              "      <td>41</td>\n",
              "      <td>0.9</td>\n",
              "      <td>145</td>\n",
              "      <td>5</td>\n",
              "      <td>...</td>\n",
              "      <td>1263</td>\n",
              "      <td>1716</td>\n",
              "      <td>2603</td>\n",
              "      <td>11</td>\n",
              "      <td>2</td>\n",
              "      <td>9</td>\n",
              "      <td>1</td>\n",
              "      <td>1</td>\n",
              "      <td>0</td>\n",
              "      <td>2</td>\n",
              "    </tr>\n",
              "    <tr>\n",
              "      <th>3</th>\n",
              "      <td>615</td>\n",
              "      <td>1</td>\n",
              "      <td>2.5</td>\n",
              "      <td>0</td>\n",
              "      <td>0</td>\n",
              "      <td>0</td>\n",
              "      <td>10</td>\n",
              "      <td>0.8</td>\n",
              "      <td>131</td>\n",
              "      <td>6</td>\n",
              "      <td>...</td>\n",
              "      <td>1216</td>\n",
              "      <td>1786</td>\n",
              "      <td>2769</td>\n",
              "      <td>16</td>\n",
              "      <td>8</td>\n",
              "      <td>11</td>\n",
              "      <td>1</td>\n",
              "      <td>0</td>\n",
              "      <td>0</td>\n",
              "      <td>2</td>\n",
              "    </tr>\n",
              "    <tr>\n",
              "      <th>4</th>\n",
              "      <td>1821</td>\n",
              "      <td>1</td>\n",
              "      <td>1.2</td>\n",
              "      <td>0</td>\n",
              "      <td>13</td>\n",
              "      <td>1</td>\n",
              "      <td>44</td>\n",
              "      <td>0.6</td>\n",
              "      <td>141</td>\n",
              "      <td>2</td>\n",
              "      <td>...</td>\n",
              "      <td>1208</td>\n",
              "      <td>1212</td>\n",
              "      <td>1411</td>\n",
              "      <td>8</td>\n",
              "      <td>2</td>\n",
              "      <td>15</td>\n",
              "      <td>1</td>\n",
              "      <td>1</td>\n",
              "      <td>0</td>\n",
              "      <td>1</td>\n",
              "    </tr>\n",
              "  </tbody>\n",
              "</table>\n",
              "<p>5 rows × 21 columns</p>\n",
              "</div>\n",
              "      <button class=\"colab-df-convert\" onclick=\"convertToInteractive('df-9119f7af-3857-447e-873e-8aab741c5fe2')\"\n",
              "              title=\"Convert this dataframe to an interactive table.\"\n",
              "              style=\"display:none;\">\n",
              "        \n",
              "  <svg xmlns=\"http://www.w3.org/2000/svg\" height=\"24px\"viewBox=\"0 0 24 24\"\n",
              "       width=\"24px\">\n",
              "    <path d=\"M0 0h24v24H0V0z\" fill=\"none\"/>\n",
              "    <path d=\"M18.56 5.44l.94 2.06.94-2.06 2.06-.94-2.06-.94-.94-2.06-.94 2.06-2.06.94zm-11 1L8.5 8.5l.94-2.06 2.06-.94-2.06-.94L8.5 2.5l-.94 2.06-2.06.94zm10 10l.94 2.06.94-2.06 2.06-.94-2.06-.94-.94-2.06-.94 2.06-2.06.94z\"/><path d=\"M17.41 7.96l-1.37-1.37c-.4-.4-.92-.59-1.43-.59-.52 0-1.04.2-1.43.59L10.3 9.45l-7.72 7.72c-.78.78-.78 2.05 0 2.83L4 21.41c.39.39.9.59 1.41.59.51 0 1.02-.2 1.41-.59l7.78-7.78 2.81-2.81c.8-.78.8-2.07 0-2.86zM5.41 20L4 18.59l7.72-7.72 1.47 1.35L5.41 20z\"/>\n",
              "  </svg>\n",
              "      </button>\n",
              "      \n",
              "  <style>\n",
              "    .colab-df-container {\n",
              "      display:flex;\n",
              "      flex-wrap:wrap;\n",
              "      gap: 12px;\n",
              "    }\n",
              "\n",
              "    .colab-df-convert {\n",
              "      background-color: #E8F0FE;\n",
              "      border: none;\n",
              "      border-radius: 50%;\n",
              "      cursor: pointer;\n",
              "      display: none;\n",
              "      fill: #1967D2;\n",
              "      height: 32px;\n",
              "      padding: 0 0 0 0;\n",
              "      width: 32px;\n",
              "    }\n",
              "\n",
              "    .colab-df-convert:hover {\n",
              "      background-color: #E2EBFA;\n",
              "      box-shadow: 0px 1px 2px rgba(60, 64, 67, 0.3), 0px 1px 3px 1px rgba(60, 64, 67, 0.15);\n",
              "      fill: #174EA6;\n",
              "    }\n",
              "\n",
              "    [theme=dark] .colab-df-convert {\n",
              "      background-color: #3B4455;\n",
              "      fill: #D2E3FC;\n",
              "    }\n",
              "\n",
              "    [theme=dark] .colab-df-convert:hover {\n",
              "      background-color: #434B5C;\n",
              "      box-shadow: 0px 1px 3px 1px rgba(0, 0, 0, 0.15);\n",
              "      filter: drop-shadow(0px 1px 2px rgba(0, 0, 0, 0.3));\n",
              "      fill: #FFFFFF;\n",
              "    }\n",
              "  </style>\n",
              "\n",
              "      <script>\n",
              "        const buttonEl =\n",
              "          document.querySelector('#df-9119f7af-3857-447e-873e-8aab741c5fe2 button.colab-df-convert');\n",
              "        buttonEl.style.display =\n",
              "          google.colab.kernel.accessAllowed ? 'block' : 'none';\n",
              "\n",
              "        async function convertToInteractive(key) {\n",
              "          const element = document.querySelector('#df-9119f7af-3857-447e-873e-8aab741c5fe2');\n",
              "          const dataTable =\n",
              "            await google.colab.kernel.invokeFunction('convertToInteractive',\n",
              "                                                     [key], {});\n",
              "          if (!dataTable) return;\n",
              "\n",
              "          const docLinkHtml = 'Like what you see? Visit the ' +\n",
              "            '<a target=\"_blank\" href=https://colab.research.google.com/notebooks/data_table.ipynb>data table notebook</a>'\n",
              "            + ' to learn more about interactive tables.';\n",
              "          element.innerHTML = '';\n",
              "          dataTable['output_type'] = 'display_data';\n",
              "          await google.colab.output.renderOutput(dataTable, element);\n",
              "          const docLink = document.createElement('div');\n",
              "          docLink.innerHTML = docLinkHtml;\n",
              "          element.appendChild(docLink);\n",
              "        }\n",
              "      </script>\n",
              "    </div>\n",
              "  </div>\n",
              "  "
            ]
          },
          "metadata": {},
          "execution_count": 139
        }
      ]
    },
    {
      "cell_type": "code",
      "source": [
        "#Changing pandas dataframe to numpy array\n",
        "x = dataset_Mobile.iloc[:,:20].values\n",
        "y = dataset_Mobile.iloc[:,20:21].values"
      ],
      "metadata": {
        "id": "5tOkXIpp9T3w"
      },
      "execution_count": 140,
      "outputs": []
    },
    {
      "cell_type": "markdown",
      "source": [
        "**Normalizing the data**"
      ],
      "metadata": {
        "id": "Xn3etK4K1fx3"
      }
    },
    {
      "cell_type": "code",
      "source": [
        "from sklearn.preprocessing import StandardScaler\n",
        "sc = StandardScaler()\n",
        "x = sc.fit_transform(x)\n",
        "x"
      ],
      "metadata": {
        "id": "dGYHDVZl1GyO",
        "colab": {
          "base_uri": "https://localhost:8080/"
        },
        "outputId": "b16df2bb-1ec5-4a82-9793-afb4be58b7ed"
      },
      "execution_count": 141,
      "outputs": [
        {
          "output_type": "execute_result",
          "data": {
            "text/plain": [
              "array([[-0.90259726, -0.9900495 ,  0.83077942, ..., -1.78686097,\n",
              "        -1.00601811,  0.98609664],\n",
              "       [-0.49513857,  1.0100505 , -1.2530642 , ...,  0.55964063,\n",
              "         0.99401789, -1.01409939],\n",
              "       [-1.5376865 ,  1.0100505 , -1.2530642 , ...,  0.55964063,\n",
              "         0.99401789, -1.01409939],\n",
              "       ...,\n",
              "       [ 1.53077336, -0.9900495 , -0.76274805, ...,  0.55964063,\n",
              "         0.99401789, -1.01409939],\n",
              "       [ 0.62252745, -0.9900495 , -0.76274805, ...,  0.55964063,\n",
              "         0.99401789,  0.98609664],\n",
              "       [-1.65833069,  1.0100505 ,  0.58562134, ...,  0.55964063,\n",
              "         0.99401789,  0.98609664]])"
            ]
          },
          "metadata": {},
          "execution_count": 141
        }
      ]
    },
    {
      "cell_type": "markdown",
      "source": [
        "**One Hot Encoding**"
      ],
      "metadata": {
        "id": "Xq6o0_mU20Xr"
      }
    },
    {
      "cell_type": "code",
      "source": [
        "from sklearn.preprocessing import OneHotEncoder\n",
        "one_hot_encoder = OneHotEncoder()\n",
        "y = one_hot_encoder.fit_transform(y).toarray()\n",
        "y"
      ],
      "metadata": {
        "id": "HZn9VdvN3LEK",
        "colab": {
          "base_uri": "https://localhost:8080/"
        },
        "outputId": "d8f6bfe7-107a-4428-fa1c-851a6a3b3dc1"
      },
      "execution_count": 142,
      "outputs": [
        {
          "output_type": "execute_result",
          "data": {
            "text/plain": [
              "array([[0., 1., 0., 0.],\n",
              "       [0., 0., 1., 0.],\n",
              "       [0., 0., 1., 0.],\n",
              "       ...,\n",
              "       [0., 0., 0., 1.],\n",
              "       [1., 0., 0., 0.],\n",
              "       [0., 0., 0., 1.]])"
            ]
          },
          "metadata": {},
          "execution_count": 142
        }
      ]
    },
    {
      "cell_type": "markdown",
      "source": [
        "**Splitting Data into Train and Test Sets**"
      ],
      "metadata": {
        "id": "alS4MPqn-e9e"
      }
    },
    {
      "cell_type": "code",
      "source": [
        "from sklearn.model_selection import train_test_split\n",
        "X_train,X_test,Y_train,Y_test = train_test_split(x,y,test_size = 0.2,random_state=0)"
      ],
      "metadata": {
        "id": "BhxzgaqT-i5S"
      },
      "execution_count": 143,
      "outputs": []
    },
    {
      "cell_type": "markdown",
      "source": [
        "**Constructing a Nueral Network**"
      ],
      "metadata": {
        "id": "SPdv6QpQ_TsY"
      }
    },
    {
      "cell_type": "code",
      "source": [
        "model = Sequential()\n",
        "model.add(Dense(16, input_dim=20, activation='relu'))\n",
        "model.add(Dense(4, activation='softmax'))\n",
        "model.summary()"
      ],
      "metadata": {
        "id": "xtIHwRAz_YWE",
        "colab": {
          "base_uri": "https://localhost:8080/"
        },
        "outputId": "85642719-ef18-41ce-caed-d5e27eb7dc41"
      },
      "execution_count": 144,
      "outputs": [
        {
          "output_type": "stream",
          "name": "stdout",
          "text": [
            "Model: \"sequential_3\"\n",
            "_________________________________________________________________\n",
            " Layer (type)                Output Shape              Param #   \n",
            "=================================================================\n",
            " dense_6 (Dense)             (None, 16)                336       \n",
            "                                                                 \n",
            " dense_7 (Dense)             (None, 4)                 68        \n",
            "                                                                 \n",
            "=================================================================\n",
            "Total params: 404\n",
            "Trainable params: 404\n",
            "Non-trainable params: 0\n",
            "_________________________________________________________________\n"
          ]
        }
      ]
    },
    {
      "cell_type": "markdown",
      "source": [
        "**Specifying the loss function and the optimizer**"
      ],
      "metadata": {
        "id": "tOdfaIm9B6nR"
      }
    },
    {
      "cell_type": "code",
      "source": [
        "from keras import optimizers\n",
        "OPTIMIZER= optimizers.SGD(learning_rate=0.1)\n",
        "model.compile(loss='categorical_crossentropy', optimizer=OPTIMIZER, metrics=['accuracy'])"
      ],
      "metadata": {
        "id": "SSTk2r8EB9JM"
      },
      "execution_count": 145,
      "outputs": []
    },
    {
      "cell_type": "markdown",
      "source": [
        "**Training the Model**"
      ],
      "metadata": {
        "id": "-BlyG0YoDsdJ"
      }
    },
    {
      "cell_type": "code",
      "source": [
        "BATCH_SIZE = 128\n",
        "EPOCHES = 100\n",
        "VERBOSE = 1\n",
        "VALIDATION_SPLIT = 0.2\n",
        "model_history = model.fit(x=X_train, y=Y_train, batch_size=BATCH_SIZE, \n",
        "                          epochs=EPOCHES, verbose=VERBOSE, validation_split=VALIDATION_SPLIT)"
      ],
      "metadata": {
        "id": "21Bu1XpeDwQn",
        "colab": {
          "base_uri": "https://localhost:8080/"
        },
        "outputId": "86f329f6-e87f-40a3-a976-fcb78f89b389"
      },
      "execution_count": 146,
      "outputs": [
        {
          "output_type": "stream",
          "name": "stdout",
          "text": [
            "Epoch 1/100\n",
            "10/10 [==============================] - 1s 21ms/step - loss: 1.5577 - accuracy: 0.2891 - val_loss: 1.4090 - val_accuracy: 0.3156\n",
            "Epoch 2/100\n",
            "10/10 [==============================] - 0s 5ms/step - loss: 1.3716 - accuracy: 0.3586 - val_loss: 1.2803 - val_accuracy: 0.3719\n",
            "Epoch 3/100\n",
            "10/10 [==============================] - 0s 4ms/step - loss: 1.2444 - accuracy: 0.4352 - val_loss: 1.1781 - val_accuracy: 0.4313\n",
            "Epoch 4/100\n",
            "10/10 [==============================] - 0s 5ms/step - loss: 1.1401 - accuracy: 0.5102 - val_loss: 1.0893 - val_accuracy: 0.4781\n",
            "Epoch 5/100\n",
            "10/10 [==============================] - 0s 4ms/step - loss: 1.0505 - accuracy: 0.5562 - val_loss: 1.0106 - val_accuracy: 0.5312\n",
            "Epoch 6/100\n",
            "10/10 [==============================] - 0s 4ms/step - loss: 0.9708 - accuracy: 0.6008 - val_loss: 0.9413 - val_accuracy: 0.5813\n",
            "Epoch 7/100\n",
            "10/10 [==============================] - 0s 6ms/step - loss: 0.9002 - accuracy: 0.6445 - val_loss: 0.8805 - val_accuracy: 0.6062\n",
            "Epoch 8/100\n",
            "10/10 [==============================] - 0s 5ms/step - loss: 0.8381 - accuracy: 0.6742 - val_loss: 0.8272 - val_accuracy: 0.6656\n",
            "Epoch 9/100\n",
            "10/10 [==============================] - 0s 4ms/step - loss: 0.7843 - accuracy: 0.7086 - val_loss: 0.7808 - val_accuracy: 0.7031\n",
            "Epoch 10/100\n",
            "10/10 [==============================] - 0s 6ms/step - loss: 0.7365 - accuracy: 0.7312 - val_loss: 0.7378 - val_accuracy: 0.7063\n",
            "Epoch 11/100\n",
            "10/10 [==============================] - 0s 6ms/step - loss: 0.6950 - accuracy: 0.7445 - val_loss: 0.6998 - val_accuracy: 0.7500\n",
            "Epoch 12/100\n",
            "10/10 [==============================] - 0s 5ms/step - loss: 0.6568 - accuracy: 0.7711 - val_loss: 0.6656 - val_accuracy: 0.7625\n",
            "Epoch 13/100\n",
            "10/10 [==============================] - 0s 4ms/step - loss: 0.6230 - accuracy: 0.7875 - val_loss: 0.6347 - val_accuracy: 0.7719\n",
            "Epoch 14/100\n",
            "10/10 [==============================] - 0s 5ms/step - loss: 0.5919 - accuracy: 0.8133 - val_loss: 0.6071 - val_accuracy: 0.7844\n",
            "Epoch 15/100\n",
            "10/10 [==============================] - 0s 6ms/step - loss: 0.5657 - accuracy: 0.8281 - val_loss: 0.5822 - val_accuracy: 0.7969\n",
            "Epoch 16/100\n",
            "10/10 [==============================] - 0s 6ms/step - loss: 0.5412 - accuracy: 0.8367 - val_loss: 0.5591 - val_accuracy: 0.8031\n",
            "Epoch 17/100\n",
            "10/10 [==============================] - 0s 5ms/step - loss: 0.5189 - accuracy: 0.8516 - val_loss: 0.5382 - val_accuracy: 0.8062\n",
            "Epoch 18/100\n",
            "10/10 [==============================] - 0s 6ms/step - loss: 0.4984 - accuracy: 0.8625 - val_loss: 0.5196 - val_accuracy: 0.8188\n",
            "Epoch 19/100\n",
            "10/10 [==============================] - 0s 5ms/step - loss: 0.4802 - accuracy: 0.8703 - val_loss: 0.5014 - val_accuracy: 0.8219\n",
            "Epoch 20/100\n",
            "10/10 [==============================] - 0s 4ms/step - loss: 0.4628 - accuracy: 0.8781 - val_loss: 0.4857 - val_accuracy: 0.8406\n",
            "Epoch 21/100\n",
            "10/10 [==============================] - 0s 4ms/step - loss: 0.4472 - accuracy: 0.8891 - val_loss: 0.4711 - val_accuracy: 0.8438\n",
            "Epoch 22/100\n",
            "10/10 [==============================] - 0s 4ms/step - loss: 0.4323 - accuracy: 0.8906 - val_loss: 0.4567 - val_accuracy: 0.8500\n",
            "Epoch 23/100\n",
            "10/10 [==============================] - 0s 6ms/step - loss: 0.4187 - accuracy: 0.8969 - val_loss: 0.4440 - val_accuracy: 0.8531\n",
            "Epoch 24/100\n",
            "10/10 [==============================] - 0s 5ms/step - loss: 0.4056 - accuracy: 0.8992 - val_loss: 0.4315 - val_accuracy: 0.8594\n",
            "Epoch 25/100\n",
            "10/10 [==============================] - 0s 4ms/step - loss: 0.3940 - accuracy: 0.9016 - val_loss: 0.4198 - val_accuracy: 0.8656\n",
            "Epoch 26/100\n",
            "10/10 [==============================] - 0s 5ms/step - loss: 0.3818 - accuracy: 0.9102 - val_loss: 0.4086 - val_accuracy: 0.8781\n",
            "Epoch 27/100\n",
            "10/10 [==============================] - 0s 4ms/step - loss: 0.3719 - accuracy: 0.9180 - val_loss: 0.3988 - val_accuracy: 0.8781\n",
            "Epoch 28/100\n",
            "10/10 [==============================] - 0s 5ms/step - loss: 0.3617 - accuracy: 0.9109 - val_loss: 0.3885 - val_accuracy: 0.8813\n",
            "Epoch 29/100\n",
            "10/10 [==============================] - 0s 6ms/step - loss: 0.3516 - accuracy: 0.9187 - val_loss: 0.3795 - val_accuracy: 0.8750\n",
            "Epoch 30/100\n",
            "10/10 [==============================] - 0s 5ms/step - loss: 0.3423 - accuracy: 0.9227 - val_loss: 0.3702 - val_accuracy: 0.8906\n",
            "Epoch 31/100\n",
            "10/10 [==============================] - 0s 6ms/step - loss: 0.3334 - accuracy: 0.9219 - val_loss: 0.3623 - val_accuracy: 0.8875\n",
            "Epoch 32/100\n",
            "10/10 [==============================] - 0s 6ms/step - loss: 0.3259 - accuracy: 0.9297 - val_loss: 0.3545 - val_accuracy: 0.8875\n",
            "Epoch 33/100\n",
            "10/10 [==============================] - 0s 6ms/step - loss: 0.3174 - accuracy: 0.9328 - val_loss: 0.3473 - val_accuracy: 0.8844\n",
            "Epoch 34/100\n",
            "10/10 [==============================] - 0s 4ms/step - loss: 0.3105 - accuracy: 0.9281 - val_loss: 0.3392 - val_accuracy: 0.8938\n",
            "Epoch 35/100\n",
            "10/10 [==============================] - 0s 4ms/step - loss: 0.3027 - accuracy: 0.9320 - val_loss: 0.3321 - val_accuracy: 0.9062\n",
            "Epoch 36/100\n",
            "10/10 [==============================] - 0s 4ms/step - loss: 0.2964 - accuracy: 0.9375 - val_loss: 0.3261 - val_accuracy: 0.9031\n",
            "Epoch 37/100\n",
            "10/10 [==============================] - 0s 4ms/step - loss: 0.2899 - accuracy: 0.9359 - val_loss: 0.3195 - val_accuracy: 0.9094\n",
            "Epoch 38/100\n",
            "10/10 [==============================] - 0s 4ms/step - loss: 0.2838 - accuracy: 0.9375 - val_loss: 0.3136 - val_accuracy: 0.9125\n",
            "Epoch 39/100\n",
            "10/10 [==============================] - 0s 4ms/step - loss: 0.2777 - accuracy: 0.9414 - val_loss: 0.3085 - val_accuracy: 0.9125\n",
            "Epoch 40/100\n",
            "10/10 [==============================] - 0s 4ms/step - loss: 0.2719 - accuracy: 0.9398 - val_loss: 0.3030 - val_accuracy: 0.9125\n",
            "Epoch 41/100\n",
            "10/10 [==============================] - 0s 4ms/step - loss: 0.2662 - accuracy: 0.9422 - val_loss: 0.2975 - val_accuracy: 0.9156\n",
            "Epoch 42/100\n",
            "10/10 [==============================] - 0s 5ms/step - loss: 0.2610 - accuracy: 0.9414 - val_loss: 0.2929 - val_accuracy: 0.9125\n",
            "Epoch 43/100\n",
            "10/10 [==============================] - 0s 6ms/step - loss: 0.2564 - accuracy: 0.9422 - val_loss: 0.2885 - val_accuracy: 0.9156\n",
            "Epoch 44/100\n",
            "10/10 [==============================] - 0s 5ms/step - loss: 0.2514 - accuracy: 0.9422 - val_loss: 0.2839 - val_accuracy: 0.9156\n",
            "Epoch 45/100\n",
            "10/10 [==============================] - 0s 5ms/step - loss: 0.2462 - accuracy: 0.9469 - val_loss: 0.2793 - val_accuracy: 0.9125\n",
            "Epoch 46/100\n",
            "10/10 [==============================] - 0s 4ms/step - loss: 0.2418 - accuracy: 0.9484 - val_loss: 0.2750 - val_accuracy: 0.9156\n",
            "Epoch 47/100\n",
            "10/10 [==============================] - 0s 5ms/step - loss: 0.2377 - accuracy: 0.9500 - val_loss: 0.2710 - val_accuracy: 0.9125\n",
            "Epoch 48/100\n",
            "10/10 [==============================] - 0s 7ms/step - loss: 0.2335 - accuracy: 0.9500 - val_loss: 0.2669 - val_accuracy: 0.9187\n",
            "Epoch 49/100\n",
            "10/10 [==============================] - 0s 5ms/step - loss: 0.2288 - accuracy: 0.9523 - val_loss: 0.2641 - val_accuracy: 0.9156\n",
            "Epoch 50/100\n",
            "10/10 [==============================] - 0s 5ms/step - loss: 0.2257 - accuracy: 0.9484 - val_loss: 0.2601 - val_accuracy: 0.9187\n",
            "Epoch 51/100\n",
            "10/10 [==============================] - 0s 4ms/step - loss: 0.2214 - accuracy: 0.9531 - val_loss: 0.2569 - val_accuracy: 0.9250\n",
            "Epoch 52/100\n",
            "10/10 [==============================] - 0s 4ms/step - loss: 0.2177 - accuracy: 0.9531 - val_loss: 0.2534 - val_accuracy: 0.9250\n",
            "Epoch 53/100\n",
            "10/10 [==============================] - 0s 5ms/step - loss: 0.2141 - accuracy: 0.9570 - val_loss: 0.2505 - val_accuracy: 0.9281\n",
            "Epoch 54/100\n",
            "10/10 [==============================] - 0s 6ms/step - loss: 0.2112 - accuracy: 0.9563 - val_loss: 0.2476 - val_accuracy: 0.9312\n",
            "Epoch 55/100\n",
            "10/10 [==============================] - 0s 4ms/step - loss: 0.2078 - accuracy: 0.9594 - val_loss: 0.2452 - val_accuracy: 0.9281\n",
            "Epoch 56/100\n",
            "10/10 [==============================] - 0s 4ms/step - loss: 0.2041 - accuracy: 0.9594 - val_loss: 0.2427 - val_accuracy: 0.9281\n",
            "Epoch 57/100\n",
            "10/10 [==============================] - 0s 5ms/step - loss: 0.2012 - accuracy: 0.9609 - val_loss: 0.2400 - val_accuracy: 0.9219\n",
            "Epoch 58/100\n",
            "10/10 [==============================] - 0s 5ms/step - loss: 0.1982 - accuracy: 0.9586 - val_loss: 0.2375 - val_accuracy: 0.9219\n",
            "Epoch 59/100\n",
            "10/10 [==============================] - 0s 6ms/step - loss: 0.1953 - accuracy: 0.9578 - val_loss: 0.2349 - val_accuracy: 0.9219\n",
            "Epoch 60/100\n",
            "10/10 [==============================] - 0s 5ms/step - loss: 0.1920 - accuracy: 0.9641 - val_loss: 0.2324 - val_accuracy: 0.9219\n",
            "Epoch 61/100\n",
            "10/10 [==============================] - 0s 4ms/step - loss: 0.1899 - accuracy: 0.9633 - val_loss: 0.2303 - val_accuracy: 0.9219\n",
            "Epoch 62/100\n",
            "10/10 [==============================] - 0s 6ms/step - loss: 0.1868 - accuracy: 0.9656 - val_loss: 0.2290 - val_accuracy: 0.9187\n",
            "Epoch 63/100\n",
            "10/10 [==============================] - 0s 4ms/step - loss: 0.1843 - accuracy: 0.9648 - val_loss: 0.2265 - val_accuracy: 0.9219\n",
            "Epoch 64/100\n",
            "10/10 [==============================] - 0s 5ms/step - loss: 0.1812 - accuracy: 0.9672 - val_loss: 0.2249 - val_accuracy: 0.9250\n",
            "Epoch 65/100\n",
            "10/10 [==============================] - 0s 6ms/step - loss: 0.1795 - accuracy: 0.9648 - val_loss: 0.2223 - val_accuracy: 0.9219\n",
            "Epoch 66/100\n",
            "10/10 [==============================] - 0s 4ms/step - loss: 0.1766 - accuracy: 0.9680 - val_loss: 0.2209 - val_accuracy: 0.9219\n",
            "Epoch 67/100\n",
            "10/10 [==============================] - 0s 4ms/step - loss: 0.1750 - accuracy: 0.9664 - val_loss: 0.2193 - val_accuracy: 0.9187\n",
            "Epoch 68/100\n",
            "10/10 [==============================] - 0s 6ms/step - loss: 0.1718 - accuracy: 0.9695 - val_loss: 0.2171 - val_accuracy: 0.9187\n",
            "Epoch 69/100\n",
            "10/10 [==============================] - 0s 5ms/step - loss: 0.1699 - accuracy: 0.9703 - val_loss: 0.2157 - val_accuracy: 0.9219\n",
            "Epoch 70/100\n",
            "10/10 [==============================] - 0s 5ms/step - loss: 0.1678 - accuracy: 0.9688 - val_loss: 0.2138 - val_accuracy: 0.9219\n",
            "Epoch 71/100\n",
            "10/10 [==============================] - 0s 7ms/step - loss: 0.1658 - accuracy: 0.9711 - val_loss: 0.2126 - val_accuracy: 0.9219\n",
            "Epoch 72/100\n",
            "10/10 [==============================] - 0s 5ms/step - loss: 0.1633 - accuracy: 0.9664 - val_loss: 0.2113 - val_accuracy: 0.9187\n",
            "Epoch 73/100\n",
            "10/10 [==============================] - 0s 5ms/step - loss: 0.1614 - accuracy: 0.9703 - val_loss: 0.2097 - val_accuracy: 0.9187\n",
            "Epoch 74/100\n",
            "10/10 [==============================] - 0s 5ms/step - loss: 0.1593 - accuracy: 0.9734 - val_loss: 0.2080 - val_accuracy: 0.9219\n",
            "Epoch 75/100\n",
            "10/10 [==============================] - 0s 6ms/step - loss: 0.1577 - accuracy: 0.9711 - val_loss: 0.2069 - val_accuracy: 0.9187\n",
            "Epoch 76/100\n",
            "10/10 [==============================] - 0s 7ms/step - loss: 0.1553 - accuracy: 0.9734 - val_loss: 0.2054 - val_accuracy: 0.9187\n",
            "Epoch 77/100\n",
            "10/10 [==============================] - 0s 4ms/step - loss: 0.1537 - accuracy: 0.9727 - val_loss: 0.2037 - val_accuracy: 0.9219\n",
            "Epoch 78/100\n",
            "10/10 [==============================] - 0s 5ms/step - loss: 0.1519 - accuracy: 0.9719 - val_loss: 0.2023 - val_accuracy: 0.9219\n",
            "Epoch 79/100\n",
            "10/10 [==============================] - 0s 6ms/step - loss: 0.1505 - accuracy: 0.9727 - val_loss: 0.2007 - val_accuracy: 0.9219\n",
            "Epoch 80/100\n",
            "10/10 [==============================] - 0s 6ms/step - loss: 0.1485 - accuracy: 0.9750 - val_loss: 0.1994 - val_accuracy: 0.9250\n",
            "Epoch 81/100\n",
            "10/10 [==============================] - 0s 4ms/step - loss: 0.1468 - accuracy: 0.9750 - val_loss: 0.1984 - val_accuracy: 0.9219\n",
            "Epoch 82/100\n",
            "10/10 [==============================] - 0s 5ms/step - loss: 0.1453 - accuracy: 0.9719 - val_loss: 0.1975 - val_accuracy: 0.9219\n",
            "Epoch 83/100\n",
            "10/10 [==============================] - 0s 6ms/step - loss: 0.1433 - accuracy: 0.9742 - val_loss: 0.1964 - val_accuracy: 0.9250\n",
            "Epoch 84/100\n",
            "10/10 [==============================] - 0s 8ms/step - loss: 0.1424 - accuracy: 0.9758 - val_loss: 0.1954 - val_accuracy: 0.9187\n",
            "Epoch 85/100\n",
            "10/10 [==============================] - 0s 5ms/step - loss: 0.1403 - accuracy: 0.9750 - val_loss: 0.1945 - val_accuracy: 0.9187\n",
            "Epoch 86/100\n",
            "10/10 [==============================] - 0s 5ms/step - loss: 0.1393 - accuracy: 0.9766 - val_loss: 0.1933 - val_accuracy: 0.9219\n",
            "Epoch 87/100\n",
            "10/10 [==============================] - 0s 4ms/step - loss: 0.1375 - accuracy: 0.9750 - val_loss: 0.1922 - val_accuracy: 0.9219\n",
            "Epoch 88/100\n",
            "10/10 [==============================] - 0s 5ms/step - loss: 0.1361 - accuracy: 0.9766 - val_loss: 0.1911 - val_accuracy: 0.9219\n",
            "Epoch 89/100\n",
            "10/10 [==============================] - 0s 7ms/step - loss: 0.1348 - accuracy: 0.9781 - val_loss: 0.1906 - val_accuracy: 0.9219\n",
            "Epoch 90/100\n",
            "10/10 [==============================] - 0s 4ms/step - loss: 0.1338 - accuracy: 0.9750 - val_loss: 0.1897 - val_accuracy: 0.9250\n",
            "Epoch 91/100\n",
            "10/10 [==============================] - 0s 4ms/step - loss: 0.1324 - accuracy: 0.9750 - val_loss: 0.1890 - val_accuracy: 0.9250\n",
            "Epoch 92/100\n",
            "10/10 [==============================] - 0s 5ms/step - loss: 0.1309 - accuracy: 0.9781 - val_loss: 0.1879 - val_accuracy: 0.9250\n",
            "Epoch 93/100\n",
            "10/10 [==============================] - 0s 6ms/step - loss: 0.1294 - accuracy: 0.9766 - val_loss: 0.1870 - val_accuracy: 0.9219\n",
            "Epoch 94/100\n",
            "10/10 [==============================] - 0s 5ms/step - loss: 0.1285 - accuracy: 0.9758 - val_loss: 0.1858 - val_accuracy: 0.9219\n",
            "Epoch 95/100\n",
            "10/10 [==============================] - 0s 4ms/step - loss: 0.1273 - accuracy: 0.9797 - val_loss: 0.1849 - val_accuracy: 0.9250\n",
            "Epoch 96/100\n",
            "10/10 [==============================] - 0s 5ms/step - loss: 0.1258 - accuracy: 0.9750 - val_loss: 0.1844 - val_accuracy: 0.9250\n",
            "Epoch 97/100\n",
            "10/10 [==============================] - 0s 5ms/step - loss: 0.1247 - accuracy: 0.9758 - val_loss: 0.1840 - val_accuracy: 0.9219\n",
            "Epoch 98/100\n",
            "10/10 [==============================] - 0s 4ms/step - loss: 0.1237 - accuracy: 0.9766 - val_loss: 0.1826 - val_accuracy: 0.9219\n",
            "Epoch 99/100\n",
            "10/10 [==============================] - 0s 6ms/step - loss: 0.1225 - accuracy: 0.9773 - val_loss: 0.1821 - val_accuracy: 0.9219\n",
            "Epoch 100/100\n",
            "10/10 [==============================] - 0s 5ms/step - loss: 0.1215 - accuracy: 0.9766 - val_loss: 0.1812 - val_accuracy: 0.9250\n"
          ]
        }
      ]
    },
    {
      "cell_type": "markdown",
      "source": [
        "**Evaluate the model**"
      ],
      "metadata": {
        "id": "0760UZKwV4Pk"
      }
    },
    {
      "cell_type": "code",
      "source": [
        "score = model.evaluate(X_test, Y_test, verbose=2) \n",
        "print('Test score:', score[0]) \n",
        "print('Test accuracy:', score[1])\n"
      ],
      "metadata": {
        "colab": {
          "base_uri": "https://localhost:8080/"
        },
        "id": "ui2i5RuLV-_g",
        "outputId": "a206f6f8-3b7c-4066-be0f-ece00550202d"
      },
      "execution_count": 147,
      "outputs": [
        {
          "output_type": "stream",
          "name": "stdout",
          "text": [
            "13/13 - 0s - loss: 0.1699 - accuracy: 0.9425 - 34ms/epoch - 3ms/step\n",
            "Test score: 0.16987602412700653\n",
            "Test accuracy: 0.9424999952316284\n"
          ]
        }
      ]
    },
    {
      "cell_type": "markdown",
      "source": [
        "**Predict the class**"
      ],
      "metadata": {
        "id": "l40EClk0WKzg"
      }
    },
    {
      "cell_type": "code",
      "source": [
        "y_probability = model.predict(X_test)\n",
        "y_classes = y_probability.argmax(axis=-1)\n",
        "print (\"True class = \", Y_test[10], \"Predicted class = \", y_classes[10])"
      ],
      "metadata": {
        "colab": {
          "base_uri": "https://localhost:8080/"
        },
        "id": "CMgTrKL3WUbt",
        "outputId": "37fea627-6a61-469b-acdd-16f0fec54aba"
      },
      "execution_count": 148,
      "outputs": [
        {
          "output_type": "stream",
          "name": "stdout",
          "text": [
            "13/13 [==============================] - 0s 2ms/step\n",
            "True class =  [0. 1. 0. 0.] Predicted class =  1\n"
          ]
        }
      ]
    },
    {
      "cell_type": "markdown",
      "source": [
        "**Plotting the model performances**"
      ],
      "metadata": {
        "id": "hedufHi8_k0I"
      }
    },
    {
      "cell_type": "code",
      "source": [
        "import matplotlib.pyplot as plt\n",
        "%matplotlib inline\n",
        "\n",
        "def plot_history(network_history):\n",
        "    plt.figure()\n",
        "    plt.xlabel('Epochs')\n",
        "    plt.ylabel('Loss')\n",
        "    plt.plot(network_history.history['loss'])\n",
        "    plt.plot(network_history.history['val_loss'])\n",
        "    plt.legend(['Training', 'Validation'])\n",
        "\n",
        "    plt.figure()\n",
        "    plt.xlabel('Epochs')\n",
        "    plt.ylabel('Accuracy')\n",
        "    plt.plot(network_history.history['accuracy'])\n",
        "    plt.plot(network_history.history['val_accuracy'])\n",
        "    plt.legend(['Training', 'Validation'], loc='lower right')\n",
        "    plt.show()\n",
        "\n",
        "plot_history(model_history)"
      ],
      "metadata": {
        "colab": {
          "base_uri": "https://localhost:8080/",
          "height": 541
        },
        "id": "UD3NG48YMwxt",
        "outputId": "a823d7d3-9117-40b0-825d-6f03c650ccc8"
      },
      "execution_count": 149,
      "outputs": [
        {
          "output_type": "display_data",
          "data": {
            "text/plain": [
              "<Figure size 432x288 with 1 Axes>"
            ],
            "image/png": "[encoded data removed]"
          },
          "metadata": {
            "needs_background": "light"
          }
        },
        {
          "output_type": "display_data",
          "data": {
            "text/plain": [
              "<Figure size 432x288 with 1 Axes>"
            ],
            "image/png": "[encoded data removed]"
          },
          "metadata": {
            "needs_background": "light"
          }
        }
      ]
    },
    {
      "cell_type": "markdown",
      "source": [
        "**Saving the trained model and its weights**"
      ],
      "metadata": {
        "id": "hzv9KYOWlOgl"
      }
    },
    {
      "cell_type": "code",
      "source": [
        "json_string = model.to_json() # as json \n",
        "open('AS2019574_mlp.json', 'w').write(json_string)\n",
        "# save the weights in h5 format \n",
        "model.save_weights('AS2019574_mlp_wts.h5')"
      ],
      "metadata": {
        "id": "e6-D7ql8lUOj"
      },
      "execution_count": 150,
      "outputs": []
    },
    {
      "cell_type": "code",
      "source": [
        "from keras.models import model_from_json\n",
        "model_from_json = model_from_json(open('AS2019574_mlp.json').read())\n",
        "model1.load_weights('AS2019574_mlp_wts.h5')\n",
        "model1.summary()\n",
        "model1.compile(optimizer='sgd', loss='categorical_crossentropy', metrics=['accuracy'])\n",
        "scores = model1.evaluate(X_test, Y_test, verbose=0) \n",
        "print('Test score:', scores[0]) \n",
        "print('Test accuracy:', scores[1])\n",
        "\n",
        "y_probability = model.predict(X_test)\n",
        "y_classes = y_probability.argmax(axis=-1)\n",
        "print (\"True class = \", Y_test[0], \"Predicted class = \", y_classes[0])"
      ],
      "metadata": {
        "colab": {
          "base_uri": "https://localhost:8080/"
        },
        "id": "jHrUtrspnMo0",
        "outputId": "ac5949ad-1f7a-44a5-ed4f-8ca9df1a3e58"
      },
      "execution_count": 151,
      "outputs": [
        {
          "output_type": "stream",
          "name": "stdout",
          "text": [
            "Model: \"sequential\"\n",
            "_________________________________________________________________\n",
            " Layer (type)                Output Shape              Param #   \n",
            "=================================================================\n",
            " dense (Dense)               (None, 16)                336       \n",
            "                                                                 \n",
            " dense_1 (Dense)             (None, 4)                 68        \n",
            "                                                                 \n",
            "=================================================================\n",
            "Total params: 404\n",
            "Trainable params: 404\n",
            "Non-trainable params: 0\n",
            "_________________________________________________________________\n",
            "Test score: 0.16987602412700653\n",
            "Test accuracy: 0.9424999952316284\n",
            "13/13 [==============================] - 0s 2ms/step\n",
            "True class =  [0. 0. 0. 1.] Predicted class =  3\n"
          ]
        }
      ]
    },
    {
      "cell_type": "markdown",
      "source": [
        "**Confusion Matrix Graph**"
      ],
      "metadata": {
        "id": "lXoGX3EAKCYx"
      }
    },
    {
      "cell_type": "code",
      "source": [
        "import seaborn as sns\n",
        "\n",
        "ax = sns.heatmap(cf_matrix, annot=True, cmap='Reds')\n",
        "\n",
        "ax.set_title('Seaborn Confusion Matrix \\n\\n');\n",
        "ax.set_xlabel('\\nPredicted Values')\n",
        "ax.set_ylabel('Actual Values ');\n",
        "\n",
        "plt.show()"
      ],
      "metadata": {
        "colab": {
          "base_uri": "https://localhost:8080/",
          "height": 337
        },
        "id": "o53_4MFD_sTZ",
        "outputId": "9671381e-f6b0-4776-a2cd-3eed0adcbbf5"
      },
      "execution_count": 152,
      "outputs": [
        {
          "output_type": "display_data",
          "data": {
            "text/plain": [
              "<Figure size 432x288 with 2 Axes>"
            ],
            "image/png": "[encoded data removed]"
          },
          "metadata": {
            "needs_background": "light"
          }
        }
      ]
    },
    {
      "cell_type": "markdown",
      "source": [
        "**Finding a Most Appropriate model for Mobile Dataset**"
      ],
      "metadata": {
        "id": "tRiaZd7QKK_e"
      }
    },
    {
      "cell_type": "code",
      "source": [
        "\n",
        "models = ['KNN' , 'MLP']\n",
        "accuracy_scores = [accuracy, score[1] ]\n",
        "plt.bar(models, accuracy_scores, color=['yellow', 'green'])\n",
        "plt.title(\"Most Accurate Model\")\n",
        "plt.show()"
      ],
      "metadata": {
        "colab": {
          "base_uri": "https://localhost:8080/",
          "height": 281
        },
        "id": "CUVJh_iUdxOG",
        "outputId": "b88f0e6c-c1fe-4258-e80f-a97f9bf4087b"
      },
      "execution_count": 153,
      "outputs": [
        {
          "output_type": "display_data",
          "data": {
            "text/plain": [
              "<Figure size 432x288 with 1 Axes>"
            ],
            "image/png": "[encoded data removed]"
          },
          "metadata": {
            "needs_background": "light"
          }
        }
      ]
    },
    {
      "cell_type": "markdown",
      "source": [
        "Above graph shows that K nearest neighbour model is the most appropriate model for mobile dataset."
      ],
      "metadata": {
        "id": "0D2CqCs0JMzJ"
      }
    }
  ]
}